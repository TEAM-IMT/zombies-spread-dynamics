{
 "cells": [
  {
   "cell_type": "code",
   "execution_count": 6,
   "id": "babbc5c1",
   "metadata": {
    "scrolled": true
   },
   "outputs": [],
   "source": [
    "from libraries.dynamics import spread_zombie_dynamics as szd\n",
    "from libraries.dynamics import graph_by_default\n",
    "from networkx.algorithms.approximation.vertex_cover import min_weighted_vertex_cover\n",
    "import datetime as dt\n",
    "import tqdm\n",
    "import networkx as nx\n",
    "import dwave_networkx as dnx\n",
    "import dimod\n",
    "import scipy.linalg as sc\n",
    "import copy"
   ]
  },
  {
   "cell_type": "code",
   "execution_count": 62,
   "id": "c02f161e",
   "metadata": {},
   "outputs": [
    {
     "name": "stdout",
     "output_type": "stream",
     "text": [
      "[INFO] Graph was modified ...\n"
     ]
    }
   ],
   "source": [
    "G, pos = graph_by_default(nodes = 210)\n",
    "ini_date = dt.datetime(year = 2019, month = 8, day = 18)\n",
    "dynamic = szd(graph = G, INTIAL_DATE = ini_date)\n",
    "dynamic.graph_pos = pos\n"
   ]
  },
  {
   "cell_type": "code",
   "execution_count": 63,
   "id": "8b1b358b",
   "metadata": {},
   "outputs": [
    {
     "name": "stderr",
     "output_type": "stream",
     "text": [
      "\r",
      "  0%|                                                                                           | 0/61 [00:00<?, ?it/s]"
     ]
    },
    {
     "name": "stdout",
     "output_type": "stream",
     "text": [
      "------------------------------\n",
      "INITIAL GRAPH DESCRIPTION:\n",
      "Name: Zombie epidemic spread dynamics graph\n",
      "Type: DiGraph\n",
      "Number of nodes: 44100\n",
      "Number of edges: 350284\n",
      "Average in degree:   7.9429\n",
      "Average out degree:   7.9429\n",
      "Initial date of epidemic:\t18-08-2019\n",
      "Initial human population: \t66148500 (100.00\\% of all population)\n",
      "Initial zombie population: \t1000 (0.00\\% of all population)\n",
      "\n",
      "CURRENT GRAPH DESCRIPTION\n",
      "Date of epidemic:\t\t19-08-2019\n",
      "Total human population: \t66141000 (99.99\\% of all population)\n",
      "Total zombie population: \t8500 (0.01\\% of all population)\n",
      "------------------------------\n"
     ]
    },
    {
     "name": "stderr",
     "output_type": "stream",
     "text": [
      "\r",
      "  2%|█▎                                                                                 | 1/61 [00:29<29:41, 29.70s/it]"
     ]
    },
    {
     "name": "stdout",
     "output_type": "stream",
     "text": [
      "------------------------------\n",
      "INITIAL GRAPH DESCRIPTION:\n",
      "Name: Zombie epidemic spread dynamics graph\n",
      "Type: DiGraph\n",
      "Number of nodes: 44100\n",
      "Number of edges: 350284\n",
      "Average in degree:   7.9429\n",
      "Average out degree:   7.9429\n",
      "Initial date of epidemic:\t18-08-2019\n",
      "Initial human population: \t66148500 (100.00\\% of all population)\n",
      "Initial zombie population: \t1000 (0.00\\% of all population)\n",
      "\n",
      "CURRENT GRAPH DESCRIPTION\n",
      "Date of epidemic:\t\t20-08-2019\n",
      "Total human population: \t66127500 (99.97\\% of all population)\n",
      "Total zombie population: \t22000 (0.03\\% of all population)\n",
      "------------------------------\n"
     ]
    },
    {
     "name": "stderr",
     "output_type": "stream",
     "text": [
      "\r",
      "  3%|██▋                                                                                | 2/61 [01:02<30:56, 31.47s/it]"
     ]
    },
    {
     "name": "stdout",
     "output_type": "stream",
     "text": [
      "------------------------------\n",
      "INITIAL GRAPH DESCRIPTION:\n",
      "Name: Zombie epidemic spread dynamics graph\n",
      "Type: DiGraph\n",
      "Number of nodes: 44100\n",
      "Number of edges: 350284\n",
      "Average in degree:   7.9429\n",
      "Average out degree:   7.9429\n",
      "Initial date of epidemic:\t18-08-2019\n",
      "Initial human population: \t66148500 (100.00\\% of all population)\n",
      "Initial zombie population: \t1000 (0.00\\% of all population)\n",
      "\n",
      "CURRENT GRAPH DESCRIPTION\n",
      "Date of epidemic:\t\t21-08-2019\n",
      "Total human population: \t66108000 (99.94\\% of all population)\n",
      "Total zombie population: \t41500 (0.06\\% of all population)\n",
      "------------------------------\n"
     ]
    },
    {
     "name": "stderr",
     "output_type": "stream",
     "text": [
      "\r",
      "  5%|████                                                                               | 3/61 [01:33<30:07, 31.17s/it]"
     ]
    },
    {
     "name": "stdout",
     "output_type": "stream",
     "text": [
      "------------------------------\n",
      "INITIAL GRAPH DESCRIPTION:\n",
      "Name: Zombie epidemic spread dynamics graph\n",
      "Type: DiGraph\n",
      "Number of nodes: 44100\n",
      "Number of edges: 350284\n",
      "Average in degree:   7.9429\n",
      "Average out degree:   7.9429\n",
      "Initial date of epidemic:\t18-08-2019\n",
      "Initial human population: \t66148500 (100.00\\% of all population)\n",
      "Initial zombie population: \t1000 (0.00\\% of all population)\n",
      "\n",
      "CURRENT GRAPH DESCRIPTION\n",
      "Date of epidemic:\t\t22-08-2019\n",
      "Total human population: \t66082500 (99.90\\% of all population)\n",
      "Total zombie population: \t67000 (0.10\\% of all population)\n",
      "------------------------------\n"
     ]
    },
    {
     "name": "stderr",
     "output_type": "stream",
     "text": [
      "\r",
      "  7%|█████▍                                                                             | 4/61 [01:59<27:51, 29.32s/it]"
     ]
    },
    {
     "name": "stdout",
     "output_type": "stream",
     "text": [
      "------------------------------\n",
      "INITIAL GRAPH DESCRIPTION:\n",
      "Name: Zombie epidemic spread dynamics graph\n",
      "Type: DiGraph\n",
      "Number of nodes: 44100\n",
      "Number of edges: 350284\n",
      "Average in degree:   7.9429\n",
      "Average out degree:   7.9429\n",
      "Initial date of epidemic:\t18-08-2019\n",
      "Initial human population: \t66148500 (100.00\\% of all population)\n",
      "Initial zombie population: \t1000 (0.00\\% of all population)\n",
      "\n",
      "CURRENT GRAPH DESCRIPTION\n",
      "Date of epidemic:\t\t23-08-2019\n",
      "Total human population: \t66051000 (99.85\\% of all population)\n",
      "Total zombie population: \t98500 (0.15\\% of all population)\n",
      "------------------------------\n"
     ]
    },
    {
     "name": "stderr",
     "output_type": "stream",
     "text": [
      "\r",
      "  8%|██████▊                                                                            | 5/61 [02:26<26:33, 28.46s/it]"
     ]
    },
    {
     "name": "stdout",
     "output_type": "stream",
     "text": [
      "------------------------------\n",
      "INITIAL GRAPH DESCRIPTION:\n",
      "Name: Zombie epidemic spread dynamics graph\n",
      "Type: DiGraph\n",
      "Number of nodes: 44100\n",
      "Number of edges: 350284\n",
      "Average in degree:   7.9429\n",
      "Average out degree:   7.9429\n",
      "Initial date of epidemic:\t18-08-2019\n",
      "Initial human population: \t66148500 (100.00\\% of all population)\n",
      "Initial zombie population: \t1000 (0.00\\% of all population)\n",
      "\n",
      "CURRENT GRAPH DESCRIPTION\n",
      "Date of epidemic:\t\t24-08-2019\n",
      "Total human population: \t66013500 (99.79\\% of all population)\n",
      "Total zombie population: \t136000 (0.21\\% of all population)\n",
      "------------------------------\n"
     ]
    },
    {
     "name": "stderr",
     "output_type": "stream",
     "text": [
      "\r",
      " 10%|████████▏                                                                          | 6/61 [02:53<25:28, 27.79s/it]"
     ]
    },
    {
     "name": "stdout",
     "output_type": "stream",
     "text": [
      "------------------------------\n",
      "INITIAL GRAPH DESCRIPTION:\n",
      "Name: Zombie epidemic spread dynamics graph\n",
      "Type: DiGraph\n",
      "Number of nodes: 44100\n",
      "Number of edges: 350284\n",
      "Average in degree:   7.9429\n",
      "Average out degree:   7.9429\n",
      "Initial date of epidemic:\t18-08-2019\n",
      "Initial human population: \t66148500 (100.00\\% of all population)\n",
      "Initial zombie population: \t1000 (0.00\\% of all population)\n",
      "\n",
      "CURRENT GRAPH DESCRIPTION\n",
      "Date of epidemic:\t\t25-08-2019\n",
      "Total human population: \t65970000 (99.73\\% of all population)\n",
      "Total zombie population: \t179500 (0.27\\% of all population)\n",
      "------------------------------\n"
     ]
    },
    {
     "name": "stderr",
     "output_type": "stream",
     "text": [
      "\r",
      " 11%|█████████▌                                                                         | 7/61 [03:22<25:23, 28.22s/it]"
     ]
    },
    {
     "name": "stdout",
     "output_type": "stream",
     "text": [
      "------------------------------\n",
      "INITIAL GRAPH DESCRIPTION:\n",
      "Name: Zombie epidemic spread dynamics graph\n",
      "Type: DiGraph\n",
      "Number of nodes: 44100\n",
      "Number of edges: 350284\n",
      "Average in degree:   7.9429\n",
      "Average out degree:   7.9429\n",
      "Initial date of epidemic:\t18-08-2019\n",
      "Initial human population: \t66148500 (100.00\\% of all population)\n",
      "Initial zombie population: \t1000 (0.00\\% of all population)\n",
      "\n",
      "CURRENT GRAPH DESCRIPTION\n",
      "Date of epidemic:\t\t26-08-2019\n",
      "Total human population: \t65920500 (99.65\\% of all population)\n",
      "Total zombie population: \t229000 (0.35\\% of all population)\n",
      "------------------------------\n"
     ]
    },
    {
     "name": "stderr",
     "output_type": "stream",
     "text": [
      "\r",
      " 13%|██████████▉                                                                        | 8/61 [03:49<24:38, 27.90s/it]"
     ]
    },
    {
     "name": "stdout",
     "output_type": "stream",
     "text": [
      "------------------------------\n",
      "INITIAL GRAPH DESCRIPTION:\n",
      "Name: Zombie epidemic spread dynamics graph\n",
      "Type: DiGraph\n",
      "Number of nodes: 44100\n",
      "Number of edges: 350284\n",
      "Average in degree:   7.9429\n",
      "Average out degree:   7.9429\n",
      "Initial date of epidemic:\t18-08-2019\n",
      "Initial human population: \t66148500 (100.00\\% of all population)\n",
      "Initial zombie population: \t1000 (0.00\\% of all population)\n",
      "\n",
      "CURRENT GRAPH DESCRIPTION\n",
      "Date of epidemic:\t\t27-08-2019\n",
      "Total human population: \t65865000 (99.57\\% of all population)\n",
      "Total zombie population: \t284500 (0.43\\% of all population)\n",
      "------------------------------\n"
     ]
    },
    {
     "name": "stderr",
     "output_type": "stream",
     "text": [
      "\r",
      " 15%|████████████▏                                                                      | 9/61 [04:15<23:44, 27.39s/it]"
     ]
    },
    {
     "name": "stdout",
     "output_type": "stream",
     "text": [
      "------------------------------\n",
      "INITIAL GRAPH DESCRIPTION:\n",
      "Name: Zombie epidemic spread dynamics graph\n",
      "Type: DiGraph\n",
      "Number of nodes: 44100\n",
      "Number of edges: 350284\n",
      "Average in degree:   7.9429\n",
      "Average out degree:   7.9429\n",
      "Initial date of epidemic:\t18-08-2019\n",
      "Initial human population: \t66148500 (100.00\\% of all population)\n",
      "Initial zombie population: \t1000 (0.00\\% of all population)\n",
      "\n",
      "CURRENT GRAPH DESCRIPTION\n",
      "Date of epidemic:\t\t28-08-2019\n",
      "Total human population: \t65803500 (99.48\\% of all population)\n",
      "Total zombie population: \t346000 (0.52\\% of all population)\n",
      "------------------------------\n"
     ]
    },
    {
     "name": "stderr",
     "output_type": "stream",
     "text": [
      "\r",
      " 16%|█████████████▍                                                                    | 10/61 [04:44<23:42, 27.88s/it]"
     ]
    },
    {
     "name": "stdout",
     "output_type": "stream",
     "text": [
      "------------------------------\n",
      "INITIAL GRAPH DESCRIPTION:\n",
      "Name: Zombie epidemic spread dynamics graph\n",
      "Type: DiGraph\n",
      "Number of nodes: 44100\n",
      "Number of edges: 350284\n",
      "Average in degree:   7.9429\n",
      "Average out degree:   7.9429\n",
      "Initial date of epidemic:\t18-08-2019\n",
      "Initial human population: \t66148500 (100.00\\% of all population)\n",
      "Initial zombie population: \t1000 (0.00\\% of all population)\n",
      "\n",
      "CURRENT GRAPH DESCRIPTION\n",
      "Date of epidemic:\t\t29-08-2019\n",
      "Total human population: \t65736000 (99.37\\% of all population)\n",
      "Total zombie population: \t413500 (0.63\\% of all population)\n",
      "------------------------------\n"
     ]
    },
    {
     "name": "stderr",
     "output_type": "stream",
     "text": [
      "\r",
      " 18%|██████████████▊                                                                   | 11/61 [05:11<23:04, 27.68s/it]"
     ]
    },
    {
     "name": "stdout",
     "output_type": "stream",
     "text": [
      "------------------------------\n",
      "INITIAL GRAPH DESCRIPTION:\n",
      "Name: Zombie epidemic spread dynamics graph\n",
      "Type: DiGraph\n",
      "Number of nodes: 44100\n",
      "Number of edges: 350284\n",
      "Average in degree:   7.9429\n",
      "Average out degree:   7.9429\n",
      "Initial date of epidemic:\t18-08-2019\n",
      "Initial human population: \t66148500 (100.00\\% of all population)\n",
      "Initial zombie population: \t1000 (0.00\\% of all population)\n",
      "\n",
      "CURRENT GRAPH DESCRIPTION\n",
      "Date of epidemic:\t\t30-08-2019\n",
      "Total human population: \t65662500 (99.26\\% of all population)\n",
      "Total zombie population: \t487000 (0.74\\% of all population)\n",
      "------------------------------\n"
     ]
    },
    {
     "name": "stderr",
     "output_type": "stream",
     "text": [
      "\r",
      " 20%|████████████████▏                                                                 | 12/61 [05:39<22:31, 27.58s/it]"
     ]
    },
    {
     "name": "stdout",
     "output_type": "stream",
     "text": [
      "------------------------------\n",
      "INITIAL GRAPH DESCRIPTION:\n",
      "Name: Zombie epidemic spread dynamics graph\n",
      "Type: DiGraph\n",
      "Number of nodes: 44100\n",
      "Number of edges: 350284\n",
      "Average in degree:   7.9429\n",
      "Average out degree:   7.9429\n",
      "Initial date of epidemic:\t18-08-2019\n",
      "Initial human population: \t66148500 (100.00\\% of all population)\n",
      "Initial zombie population: \t1000 (0.00\\% of all population)\n",
      "\n",
      "CURRENT GRAPH DESCRIPTION\n",
      "Date of epidemic:\t\t31-08-2019\n",
      "Total human population: \t65583000 (99.14\\% of all population)\n",
      "Total zombie population: \t566500 (0.86\\% of all population)\n",
      "------------------------------\n"
     ]
    },
    {
     "name": "stderr",
     "output_type": "stream",
     "text": [
      "\r",
      " 21%|█████████████████▍                                                                | 13/61 [06:05<21:46, 27.23s/it]"
     ]
    },
    {
     "name": "stdout",
     "output_type": "stream",
     "text": [
      "------------------------------\n",
      "INITIAL GRAPH DESCRIPTION:\n",
      "Name: Zombie epidemic spread dynamics graph\n",
      "Type: DiGraph\n",
      "Number of nodes: 44100\n",
      "Number of edges: 350284\n",
      "Average in degree:   7.9429\n",
      "Average out degree:   7.9429\n",
      "Initial date of epidemic:\t18-08-2019\n",
      "Initial human population: \t66148500 (100.00\\% of all population)\n",
      "Initial zombie population: \t1000 (0.00\\% of all population)\n",
      "\n",
      "CURRENT GRAPH DESCRIPTION\n",
      "Date of epidemic:\t\t01-09-2019\n",
      "Total human population: \t65497500 (99.01\\% of all population)\n",
      "Total zombie population: \t652000 (0.99\\% of all population)\n",
      "------------------------------\n"
     ]
    },
    {
     "name": "stderr",
     "output_type": "stream",
     "text": [
      "\r",
      " 23%|██████████████████▊                                                               | 14/61 [06:35<21:50, 27.88s/it]"
     ]
    },
    {
     "name": "stdout",
     "output_type": "stream",
     "text": [
      "------------------------------\n",
      "INITIAL GRAPH DESCRIPTION:\n",
      "Name: Zombie epidemic spread dynamics graph\n",
      "Type: DiGraph\n",
      "Number of nodes: 44100\n",
      "Number of edges: 350284\n",
      "Average in degree:   7.9429\n",
      "Average out degree:   7.9429\n",
      "Initial date of epidemic:\t18-08-2019\n",
      "Initial human population: \t66148500 (100.00\\% of all population)\n",
      "Initial zombie population: \t1000 (0.00\\% of all population)\n",
      "\n",
      "CURRENT GRAPH DESCRIPTION\n",
      "Date of epidemic:\t\t02-09-2019\n",
      "Total human population: \t65406000 (98.88\\% of all population)\n",
      "Total zombie population: \t742500 (1.12\\% of all population)\n",
      "------------------------------\n"
     ]
    },
    {
     "name": "stderr",
     "output_type": "stream",
     "text": [
      "\r",
      " 25%|████████████████████▏                                                             | 15/61 [07:05<22:01, 28.73s/it]"
     ]
    },
    {
     "name": "stdout",
     "output_type": "stream",
     "text": [
      "------------------------------\n",
      "INITIAL GRAPH DESCRIPTION:\n",
      "Name: Zombie epidemic spread dynamics graph\n",
      "Type: DiGraph\n",
      "Number of nodes: 44100\n",
      "Number of edges: 350284\n",
      "Average in degree:   7.9429\n",
      "Average out degree:   7.9429\n",
      "Initial date of epidemic:\t18-08-2019\n",
      "Initial human population: \t66148500 (100.00\\% of all population)\n",
      "Initial zombie population: \t1000 (0.00\\% of all population)\n",
      "\n",
      "CURRENT GRAPH DESCRIPTION\n",
      "Date of epidemic:\t\t03-09-2019\n",
      "Total human population: \t65308500 (98.73\\% of all population)\n",
      "Total zombie population: \t832500 (1.26\\% of all population)\n",
      "------------------------------\n"
     ]
    },
    {
     "name": "stderr",
     "output_type": "stream",
     "text": [
      "\r",
      " 26%|█████████████████████▌                                                            | 16/61 [07:34<21:38, 28.86s/it]"
     ]
    },
    {
     "name": "stdout",
     "output_type": "stream",
     "text": [
      "------------------------------\n",
      "INITIAL GRAPH DESCRIPTION:\n",
      "Name: Zombie epidemic spread dynamics graph\n",
      "Type: DiGraph\n",
      "Number of nodes: 44100\n",
      "Number of edges: 350284\n",
      "Average in degree:   7.9429\n",
      "Average out degree:   7.9429\n",
      "Initial date of epidemic:\t18-08-2019\n",
      "Initial human population: \t66148500 (100.00\\% of all population)\n",
      "Initial zombie population: \t1000 (0.00\\% of all population)\n",
      "\n",
      "CURRENT GRAPH DESCRIPTION\n",
      "Date of epidemic:\t\t04-09-2019\n",
      "Total human population: \t65205000 (98.57\\% of all population)\n",
      "Total zombie population: \t922500 (1.39\\% of all population)\n",
      "------------------------------\n"
     ]
    },
    {
     "name": "stderr",
     "output_type": "stream",
     "text": [
      "\r",
      " 28%|██████████████████████▊                                                           | 17/61 [08:02<20:50, 28.42s/it]"
     ]
    },
    {
     "name": "stdout",
     "output_type": "stream",
     "text": [
      "------------------------------\n",
      "INITIAL GRAPH DESCRIPTION:\n",
      "Name: Zombie epidemic spread dynamics graph\n",
      "Type: DiGraph\n",
      "Number of nodes: 44100\n",
      "Number of edges: 350284\n",
      "Average in degree:   7.9429\n",
      "Average out degree:   7.9429\n",
      "Initial date of epidemic:\t18-08-2019\n",
      "Initial human population: \t66148500 (100.00\\% of all population)\n",
      "Initial zombie population: \t1000 (0.00\\% of all population)\n",
      "\n",
      "CURRENT GRAPH DESCRIPTION\n",
      "Date of epidemic:\t\t05-09-2019\n",
      "Total human population: \t65095500 (98.41\\% of all population)\n",
      "Total zombie population: \t1012500 (1.53\\% of all population)\n",
      "------------------------------\n"
     ]
    },
    {
     "name": "stderr",
     "output_type": "stream",
     "text": [
      "\r",
      " 30%|████████████████████████▏                                                         | 18/61 [08:31<20:26, 28.52s/it]"
     ]
    },
    {
     "name": "stdout",
     "output_type": "stream",
     "text": [
      "------------------------------\n",
      "INITIAL GRAPH DESCRIPTION:\n",
      "Name: Zombie epidemic spread dynamics graph\n",
      "Type: DiGraph\n",
      "Number of nodes: 44100\n",
      "Number of edges: 350284\n",
      "Average in degree:   7.9429\n",
      "Average out degree:   7.9429\n",
      "Initial date of epidemic:\t18-08-2019\n",
      "Initial human population: \t66148500 (100.00\\% of all population)\n",
      "Initial zombie population: \t1000 (0.00\\% of all population)\n",
      "\n",
      "CURRENT GRAPH DESCRIPTION\n",
      "Date of epidemic:\t\t06-09-2019\n",
      "Total human population: \t64980000 (98.23\\% of all population)\n",
      "Total zombie population: \t1102500 (1.67\\% of all population)\n",
      "------------------------------\n"
     ]
    },
    {
     "name": "stderr",
     "output_type": "stream",
     "text": [
      "\r",
      " 31%|█████████████████████████▌                                                        | 19/61 [08:57<19:28, 27.82s/it]"
     ]
    },
    {
     "name": "stdout",
     "output_type": "stream",
     "text": [
      "------------------------------\n",
      "INITIAL GRAPH DESCRIPTION:\n",
      "Name: Zombie epidemic spread dynamics graph\n",
      "Type: DiGraph\n",
      "Number of nodes: 44100\n",
      "Number of edges: 350284\n",
      "Average in degree:   7.9429\n",
      "Average out degree:   7.9429\n",
      "Initial date of epidemic:\t18-08-2019\n",
      "Initial human population: \t66148500 (100.00\\% of all population)\n",
      "Initial zombie population: \t1000 (0.00\\% of all population)\n",
      "\n",
      "CURRENT GRAPH DESCRIPTION\n",
      "Date of epidemic:\t\t07-09-2019\n",
      "Total human population: \t64858500 (98.05\\% of all population)\n",
      "Total zombie population: \t1192500 (1.80\\% of all population)\n",
      "------------------------------\n"
     ]
    },
    {
     "name": "stderr",
     "output_type": "stream",
     "text": [
      "\r",
      " 33%|██████████████████████████▉                                                       | 20/61 [09:24<18:55, 27.71s/it]"
     ]
    },
    {
     "name": "stdout",
     "output_type": "stream",
     "text": [
      "------------------------------\n",
      "INITIAL GRAPH DESCRIPTION:\n",
      "Name: Zombie epidemic spread dynamics graph\n",
      "Type: DiGraph\n",
      "Number of nodes: 44100\n",
      "Number of edges: 350284\n",
      "Average in degree:   7.9429\n",
      "Average out degree:   7.9429\n",
      "Initial date of epidemic:\t18-08-2019\n",
      "Initial human population: \t66148500 (100.00\\% of all population)\n",
      "Initial zombie population: \t1000 (0.00\\% of all population)\n",
      "\n",
      "CURRENT GRAPH DESCRIPTION\n",
      "Date of epidemic:\t\t08-09-2019\n",
      "Total human population: \t64731000 (97.86\\% of all population)\n",
      "Total zombie population: \t1282500 (1.94\\% of all population)\n",
      "------------------------------\n"
     ]
    },
    {
     "name": "stderr",
     "output_type": "stream",
     "text": [
      "\r",
      " 34%|████████████████████████████▏                                                     | 21/61 [09:51<18:18, 27.47s/it]"
     ]
    },
    {
     "name": "stdout",
     "output_type": "stream",
     "text": [
      "------------------------------\n",
      "INITIAL GRAPH DESCRIPTION:\n",
      "Name: Zombie epidemic spread dynamics graph\n",
      "Type: DiGraph\n",
      "Number of nodes: 44100\n",
      "Number of edges: 350284\n",
      "Average in degree:   7.9429\n",
      "Average out degree:   7.9429\n",
      "Initial date of epidemic:\t18-08-2019\n",
      "Initial human population: \t66148500 (100.00\\% of all population)\n",
      "Initial zombie population: \t1000 (0.00\\% of all population)\n",
      "\n",
      "CURRENT GRAPH DESCRIPTION\n",
      "Date of epidemic:\t\t09-09-2019\n",
      "Total human population: \t64597500 (97.65\\% of all population)\n",
      "Total zombie population: \t1372500 (2.07\\% of all population)\n",
      "------------------------------\n"
     ]
    },
    {
     "name": "stderr",
     "output_type": "stream",
     "text": [
      "\r",
      " 36%|█████████████████████████████▌                                                    | 22/61 [10:23<18:47, 28.90s/it]"
     ]
    },
    {
     "name": "stdout",
     "output_type": "stream",
     "text": [
      "------------------------------\n",
      "INITIAL GRAPH DESCRIPTION:\n",
      "Name: Zombie epidemic spread dynamics graph\n",
      "Type: DiGraph\n",
      "Number of nodes: 44100\n",
      "Number of edges: 350284\n",
      "Average in degree:   7.9429\n",
      "Average out degree:   7.9429\n",
      "Initial date of epidemic:\t18-08-2019\n",
      "Initial human population: \t66148500 (100.00\\% of all population)\n",
      "Initial zombie population: \t1000 (0.00\\% of all population)\n",
      "\n",
      "CURRENT GRAPH DESCRIPTION\n",
      "Date of epidemic:\t\t10-09-2019\n",
      "Total human population: \t64458000 (97.44\\% of all population)\n",
      "Total zombie population: \t1462500 (2.21\\% of all population)\n",
      "------------------------------\n"
     ]
    },
    {
     "name": "stderr",
     "output_type": "stream",
     "text": [
      "\r",
      " 38%|██████████████████████████████▉                                                   | 23/61 [10:53<18:24, 29.07s/it]"
     ]
    },
    {
     "name": "stdout",
     "output_type": "stream",
     "text": [
      "------------------------------\n",
      "INITIAL GRAPH DESCRIPTION:\n",
      "Name: Zombie epidemic spread dynamics graph\n",
      "Type: DiGraph\n",
      "Number of nodes: 44100\n",
      "Number of edges: 350284\n",
      "Average in degree:   7.9429\n",
      "Average out degree:   7.9429\n",
      "Initial date of epidemic:\t18-08-2019\n",
      "Initial human population: \t66148500 (100.00\\% of all population)\n",
      "Initial zombie population: \t1000 (0.00\\% of all population)\n",
      "\n",
      "CURRENT GRAPH DESCRIPTION\n",
      "Date of epidemic:\t\t11-09-2019\n",
      "Total human population: \t64312500 (97.22\\% of all population)\n",
      "Total zombie population: \t1552500 (2.35\\% of all population)\n",
      "------------------------------\n"
     ]
    },
    {
     "name": "stderr",
     "output_type": "stream",
     "text": [
      "\r",
      " 39%|████████████████████████████████▎                                                 | 24/61 [11:25<18:33, 30.10s/it]"
     ]
    },
    {
     "name": "stdout",
     "output_type": "stream",
     "text": [
      "------------------------------\n",
      "INITIAL GRAPH DESCRIPTION:\n",
      "Name: Zombie epidemic spread dynamics graph\n",
      "Type: DiGraph\n",
      "Number of nodes: 44100\n",
      "Number of edges: 350284\n",
      "Average in degree:   7.9429\n",
      "Average out degree:   7.9429\n",
      "Initial date of epidemic:\t18-08-2019\n",
      "Initial human population: \t66148500 (100.00\\% of all population)\n",
      "Initial zombie population: \t1000 (0.00\\% of all population)\n",
      "\n",
      "CURRENT GRAPH DESCRIPTION\n",
      "Date of epidemic:\t\t12-09-2019\n",
      "Total human population: \t64161000 (96.99\\% of all population)\n",
      "Total zombie population: \t1642500 (2.48\\% of all population)\n",
      "------------------------------\n"
     ]
    },
    {
     "name": "stderr",
     "output_type": "stream",
     "text": [
      "\r",
      " 41%|█████████████████████████████████▌                                                | 25/61 [11:52<17:28, 29.14s/it]"
     ]
    },
    {
     "name": "stdout",
     "output_type": "stream",
     "text": [
      "------------------------------\n",
      "INITIAL GRAPH DESCRIPTION:\n",
      "Name: Zombie epidemic spread dynamics graph\n",
      "Type: DiGraph\n",
      "Number of nodes: 44100\n",
      "Number of edges: 350284\n",
      "Average in degree:   7.9429\n",
      "Average out degree:   7.9429\n",
      "Initial date of epidemic:\t18-08-2019\n",
      "Initial human population: \t66148500 (100.00\\% of all population)\n",
      "Initial zombie population: \t1000 (0.00\\% of all population)\n",
      "\n",
      "CURRENT GRAPH DESCRIPTION\n",
      "Date of epidemic:\t\t13-09-2019\n",
      "Total human population: \t64003500 (96.76\\% of all population)\n",
      "Total zombie population: \t1732500 (2.62\\% of all population)\n",
      "------------------------------\n"
     ]
    },
    {
     "name": "stderr",
     "output_type": "stream",
     "text": [
      "\r",
      " 43%|██████████████████████████████████▉                                               | 26/61 [12:19<16:31, 28.34s/it]"
     ]
    },
    {
     "name": "stdout",
     "output_type": "stream",
     "text": [
      "------------------------------\n",
      "INITIAL GRAPH DESCRIPTION:\n",
      "Name: Zombie epidemic spread dynamics graph\n",
      "Type: DiGraph\n",
      "Number of nodes: 44100\n",
      "Number of edges: 350284\n",
      "Average in degree:   7.9429\n",
      "Average out degree:   7.9429\n",
      "Initial date of epidemic:\t18-08-2019\n",
      "Initial human population: \t66148500 (100.00\\% of all population)\n",
      "Initial zombie population: \t1000 (0.00\\% of all population)\n",
      "\n",
      "CURRENT GRAPH DESCRIPTION\n",
      "Date of epidemic:\t\t14-09-2019\n",
      "Total human population: \t63840000 (96.51\\% of all population)\n",
      "Total zombie population: \t1822500 (2.76\\% of all population)\n",
      "------------------------------\n"
     ]
    },
    {
     "name": "stderr",
     "output_type": "stream",
     "text": [
      "\r",
      " 44%|████████████████████████████████████▎                                             | 27/61 [12:45<15:39, 27.64s/it]"
     ]
    },
    {
     "name": "stdout",
     "output_type": "stream",
     "text": [
      "------------------------------\n",
      "INITIAL GRAPH DESCRIPTION:\n",
      "Name: Zombie epidemic spread dynamics graph\n",
      "Type: DiGraph\n",
      "Number of nodes: 44100\n",
      "Number of edges: 350284\n",
      "Average in degree:   7.9429\n",
      "Average out degree:   7.9429\n",
      "Initial date of epidemic:\t18-08-2019\n",
      "Initial human population: \t66148500 (100.00\\% of all population)\n",
      "Initial zombie population: \t1000 (0.00\\% of all population)\n",
      "\n",
      "CURRENT GRAPH DESCRIPTION\n",
      "Date of epidemic:\t\t15-09-2019\n",
      "Total human population: \t63670500 (96.25\\% of all population)\n",
      "Total zombie population: \t1912500 (2.89\\% of all population)\n",
      "------------------------------\n"
     ]
    },
    {
     "name": "stderr",
     "output_type": "stream",
     "text": [
      "\r",
      " 46%|█████████████████████████████████████▋                                            | 28/61 [13:10<14:44, 26.81s/it]"
     ]
    },
    {
     "name": "stdout",
     "output_type": "stream",
     "text": [
      "------------------------------\n",
      "INITIAL GRAPH DESCRIPTION:\n",
      "Name: Zombie epidemic spread dynamics graph\n",
      "Type: DiGraph\n",
      "Number of nodes: 44100\n",
      "Number of edges: 350284\n",
      "Average in degree:   7.9429\n",
      "Average out degree:   7.9429\n",
      "Initial date of epidemic:\t18-08-2019\n",
      "Initial human population: \t66148500 (100.00\\% of all population)\n",
      "Initial zombie population: \t1000 (0.00\\% of all population)\n",
      "\n",
      "CURRENT GRAPH DESCRIPTION\n",
      "Date of epidemic:\t\t16-09-2019\n",
      "Total human population: \t63495000 (95.99\\% of all population)\n",
      "Total zombie population: \t2002500 (3.03\\% of all population)\n",
      "------------------------------\n"
     ]
    },
    {
     "name": "stderr",
     "output_type": "stream",
     "text": [
      "\r",
      " 48%|██████████████████████████████████████▉                                           | 29/61 [13:34<13:57, 26.17s/it]"
     ]
    },
    {
     "name": "stdout",
     "output_type": "stream",
     "text": [
      "------------------------------\n",
      "INITIAL GRAPH DESCRIPTION:\n",
      "Name: Zombie epidemic spread dynamics graph\n",
      "Type: DiGraph\n",
      "Number of nodes: 44100\n",
      "Number of edges: 350284\n",
      "Average in degree:   7.9429\n",
      "Average out degree:   7.9429\n",
      "Initial date of epidemic:\t18-08-2019\n",
      "Initial human population: \t66148500 (100.00\\% of all population)\n",
      "Initial zombie population: \t1000 (0.00\\% of all population)\n",
      "\n",
      "CURRENT GRAPH DESCRIPTION\n",
      "Date of epidemic:\t\t17-09-2019\n",
      "Total human population: \t63313500 (95.71\\% of all population)\n",
      "Total zombie population: \t2092500 (3.16\\% of all population)\n",
      "------------------------------\n"
     ]
    },
    {
     "name": "stderr",
     "output_type": "stream",
     "text": [
      "\r",
      " 49%|████████████████████████████████████████▎                                         | 30/61 [13:59<13:13, 25.60s/it]"
     ]
    },
    {
     "name": "stdout",
     "output_type": "stream",
     "text": [
      "------------------------------\n",
      "INITIAL GRAPH DESCRIPTION:\n",
      "Name: Zombie epidemic spread dynamics graph\n",
      "Type: DiGraph\n",
      "Number of nodes: 44100\n",
      "Number of edges: 350284\n",
      "Average in degree:   7.9429\n",
      "Average out degree:   7.9429\n",
      "Initial date of epidemic:\t18-08-2019\n",
      "Initial human population: \t66148500 (100.00\\% of all population)\n",
      "Initial zombie population: \t1000 (0.00\\% of all population)\n",
      "\n",
      "CURRENT GRAPH DESCRIPTION\n",
      "Date of epidemic:\t\t18-09-2019\n",
      "Total human population: \t63126000 (95.43\\% of all population)\n",
      "Total zombie population: \t2182500 (3.30\\% of all population)\n",
      "------------------------------\n"
     ]
    },
    {
     "name": "stderr",
     "output_type": "stream",
     "text": [
      "\r",
      " 51%|█████████████████████████████████████████▋                                        | 31/61 [14:23<12:40, 25.34s/it]"
     ]
    },
    {
     "name": "stdout",
     "output_type": "stream",
     "text": [
      "------------------------------\n",
      "INITIAL GRAPH DESCRIPTION:\n",
      "Name: Zombie epidemic spread dynamics graph\n",
      "Type: DiGraph\n",
      "Number of nodes: 44100\n",
      "Number of edges: 350284\n",
      "Average in degree:   7.9429\n",
      "Average out degree:   7.9429\n",
      "Initial date of epidemic:\t18-08-2019\n",
      "Initial human population: \t66148500 (100.00\\% of all population)\n",
      "Initial zombie population: \t1000 (0.00\\% of all population)\n",
      "\n",
      "CURRENT GRAPH DESCRIPTION\n",
      "Date of epidemic:\t\t19-09-2019\n",
      "Total human population: \t62932500 (95.14\\% of all population)\n",
      "Total zombie population: \t2272500 (3.44\\% of all population)\n",
      "------------------------------\n"
     ]
    },
    {
     "name": "stderr",
     "output_type": "stream",
     "text": [
      "\r",
      " 52%|███████████████████████████████████████████                                       | 32/61 [14:48<12:12, 25.26s/it]"
     ]
    },
    {
     "name": "stdout",
     "output_type": "stream",
     "text": [
      "------------------------------\n",
      "INITIAL GRAPH DESCRIPTION:\n",
      "Name: Zombie epidemic spread dynamics graph\n",
      "Type: DiGraph\n",
      "Number of nodes: 44100\n",
      "Number of edges: 350284\n",
      "Average in degree:   7.9429\n",
      "Average out degree:   7.9429\n",
      "Initial date of epidemic:\t18-08-2019\n",
      "Initial human population: \t66148500 (100.00\\% of all population)\n",
      "Initial zombie population: \t1000 (0.00\\% of all population)\n",
      "\n",
      "CURRENT GRAPH DESCRIPTION\n",
      "Date of epidemic:\t\t20-09-2019\n",
      "Total human population: \t62733000 (94.84\\% of all population)\n",
      "Total zombie population: \t2362500 (3.57\\% of all population)\n",
      "------------------------------\n"
     ]
    },
    {
     "name": "stderr",
     "output_type": "stream",
     "text": [
      "\r",
      " 54%|████████████████████████████████████████████▎                                     | 33/61 [15:13<11:43, 25.12s/it]"
     ]
    },
    {
     "name": "stdout",
     "output_type": "stream",
     "text": [
      "------------------------------\n",
      "INITIAL GRAPH DESCRIPTION:\n",
      "Name: Zombie epidemic spread dynamics graph\n",
      "Type: DiGraph\n",
      "Number of nodes: 44100\n",
      "Number of edges: 350284\n",
      "Average in degree:   7.9429\n",
      "Average out degree:   7.9429\n",
      "Initial date of epidemic:\t18-08-2019\n",
      "Initial human population: \t66148500 (100.00\\% of all population)\n",
      "Initial zombie population: \t1000 (0.00\\% of all population)\n",
      "\n",
      "CURRENT GRAPH DESCRIPTION\n",
      "Date of epidemic:\t\t21-09-2019\n",
      "Total human population: \t62527500 (94.52\\% of all population)\n",
      "Total zombie population: \t2452500 (3.71\\% of all population)\n",
      "------------------------------\n"
     ]
    },
    {
     "name": "stderr",
     "output_type": "stream",
     "text": [
      "\r",
      " 56%|█████████████████████████████████████████████▋                                    | 34/61 [15:38<11:15, 25.03s/it]"
     ]
    },
    {
     "name": "stdout",
     "output_type": "stream",
     "text": [
      "------------------------------\n",
      "INITIAL GRAPH DESCRIPTION:\n",
      "Name: Zombie epidemic spread dynamics graph\n",
      "Type: DiGraph\n",
      "Number of nodes: 44100\n",
      "Number of edges: 350284\n",
      "Average in degree:   7.9429\n",
      "Average out degree:   7.9429\n",
      "Initial date of epidemic:\t18-08-2019\n",
      "Initial human population: \t66148500 (100.00\\% of all population)\n",
      "Initial zombie population: \t1000 (0.00\\% of all population)\n",
      "\n",
      "CURRENT GRAPH DESCRIPTION\n",
      "Date of epidemic:\t\t22-09-2019\n",
      "Total human population: \t62316000 (94.20\\% of all population)\n",
      "Total zombie population: \t2542500 (3.84\\% of all population)\n",
      "------------------------------\n"
     ]
    },
    {
     "name": "stderr",
     "output_type": "stream",
     "text": [
      "\r",
      " 57%|███████████████████████████████████████████████                                   | 35/61 [16:03<10:47, 24.90s/it]"
     ]
    },
    {
     "name": "stdout",
     "output_type": "stream",
     "text": [
      "------------------------------\n",
      "INITIAL GRAPH DESCRIPTION:\n",
      "Name: Zombie epidemic spread dynamics graph\n",
      "Type: DiGraph\n",
      "Number of nodes: 44100\n",
      "Number of edges: 350284\n",
      "Average in degree:   7.9429\n",
      "Average out degree:   7.9429\n",
      "Initial date of epidemic:\t18-08-2019\n",
      "Initial human population: \t66148500 (100.00\\% of all population)\n",
      "Initial zombie population: \t1000 (0.00\\% of all population)\n",
      "\n",
      "CURRENT GRAPH DESCRIPTION\n",
      "Date of epidemic:\t\t23-09-2019\n",
      "Total human population: \t62098500 (93.88\\% of all population)\n",
      "Total zombie population: \t2632500 (3.98\\% of all population)\n",
      "------------------------------\n"
     ]
    },
    {
     "name": "stderr",
     "output_type": "stream",
     "text": [
      "\r",
      " 59%|████████████████████████████████████████████████▍                                 | 36/61 [16:27<10:19, 24.77s/it]"
     ]
    },
    {
     "name": "stdout",
     "output_type": "stream",
     "text": [
      "------------------------------\n",
      "INITIAL GRAPH DESCRIPTION:\n",
      "Name: Zombie epidemic spread dynamics graph\n",
      "Type: DiGraph\n",
      "Number of nodes: 44100\n",
      "Number of edges: 350284\n",
      "Average in degree:   7.9429\n",
      "Average out degree:   7.9429\n",
      "Initial date of epidemic:\t18-08-2019\n",
      "Initial human population: \t66148500 (100.00\\% of all population)\n",
      "Initial zombie population: \t1000 (0.00\\% of all population)\n",
      "\n",
      "CURRENT GRAPH DESCRIPTION\n",
      "Date of epidemic:\t\t24-09-2019\n",
      "Total human population: \t61875000 (93.54\\% of all population)\n",
      "Total zombie population: \t2722500 (4.12\\% of all population)\n",
      "------------------------------\n"
     ]
    },
    {
     "name": "stderr",
     "output_type": "stream",
     "text": [
      "\r",
      " 61%|█████████████████████████████████████████████████▋                                | 37/61 [16:51<09:49, 24.57s/it]"
     ]
    },
    {
     "name": "stdout",
     "output_type": "stream",
     "text": [
      "------------------------------\n",
      "INITIAL GRAPH DESCRIPTION:\n",
      "Name: Zombie epidemic spread dynamics graph\n",
      "Type: DiGraph\n",
      "Number of nodes: 44100\n",
      "Number of edges: 350284\n",
      "Average in degree:   7.9429\n",
      "Average out degree:   7.9429\n",
      "Initial date of epidemic:\t18-08-2019\n",
      "Initial human population: \t66148500 (100.00\\% of all population)\n",
      "Initial zombie population: \t1000 (0.00\\% of all population)\n",
      "\n",
      "CURRENT GRAPH DESCRIPTION\n",
      "Date of epidemic:\t\t25-09-2019\n",
      "Total human population: \t61645500 (93.19\\% of all population)\n",
      "Total zombie population: \t2812500 (4.25\\% of all population)\n",
      "------------------------------\n"
     ]
    },
    {
     "name": "stderr",
     "output_type": "stream",
     "text": [
      "\r",
      " 62%|███████████████████████████████████████████████████                               | 38/61 [17:16<09:24, 24.53s/it]"
     ]
    },
    {
     "name": "stdout",
     "output_type": "stream",
     "text": [
      "------------------------------\n",
      "INITIAL GRAPH DESCRIPTION:\n",
      "Name: Zombie epidemic spread dynamics graph\n",
      "Type: DiGraph\n",
      "Number of nodes: 44100\n",
      "Number of edges: 350284\n",
      "Average in degree:   7.9429\n",
      "Average out degree:   7.9429\n",
      "Initial date of epidemic:\t18-08-2019\n",
      "Initial human population: \t66148500 (100.00\\% of all population)\n",
      "Initial zombie population: \t1000 (0.00\\% of all population)\n",
      "\n",
      "CURRENT GRAPH DESCRIPTION\n",
      "Date of epidemic:\t\t26-09-2019\n",
      "Total human population: \t61410000 (92.84\\% of all population)\n",
      "Total zombie population: \t2902500 (4.39\\% of all population)\n",
      "------------------------------\n"
     ]
    },
    {
     "name": "stderr",
     "output_type": "stream",
     "text": [
      "\r",
      " 64%|████████████████████████████████████████████████████▍                             | 39/61 [17:40<08:57, 24.44s/it]"
     ]
    },
    {
     "name": "stdout",
     "output_type": "stream",
     "text": [
      "------------------------------\n",
      "INITIAL GRAPH DESCRIPTION:\n",
      "Name: Zombie epidemic spread dynamics graph\n",
      "Type: DiGraph\n",
      "Number of nodes: 44100\n",
      "Number of edges: 350284\n",
      "Average in degree:   7.9429\n",
      "Average out degree:   7.9429\n",
      "Initial date of epidemic:\t18-08-2019\n",
      "Initial human population: \t66148500 (100.00\\% of all population)\n",
      "Initial zombie population: \t1000 (0.00\\% of all population)\n",
      "\n",
      "CURRENT GRAPH DESCRIPTION\n",
      "Date of epidemic:\t\t27-09-2019\n",
      "Total human population: \t61168500 (92.47\\% of all population)\n",
      "Total zombie population: \t2992500 (4.52\\% of all population)\n",
      "------------------------------\n"
     ]
    },
    {
     "name": "stderr",
     "output_type": "stream",
     "text": [
      "\r",
      " 66%|█████████████████████████████████████████████████████▊                            | 40/61 [18:04<08:31, 24.37s/it]"
     ]
    },
    {
     "name": "stdout",
     "output_type": "stream",
     "text": [
      "------------------------------\n",
      "INITIAL GRAPH DESCRIPTION:\n",
      "Name: Zombie epidemic spread dynamics graph\n",
      "Type: DiGraph\n",
      "Number of nodes: 44100\n",
      "Number of edges: 350284\n",
      "Average in degree:   7.9429\n",
      "Average out degree:   7.9429\n",
      "Initial date of epidemic:\t18-08-2019\n",
      "Initial human population: \t66148500 (100.00\\% of all population)\n",
      "Initial zombie population: \t1000 (0.00\\% of all population)\n",
      "\n",
      "CURRENT GRAPH DESCRIPTION\n",
      "Date of epidemic:\t\t28-09-2019\n",
      "Total human population: \t60921000 (92.10\\% of all population)\n",
      "Total zombie population: \t3082500 (4.66\\% of all population)\n",
      "------------------------------\n"
     ]
    },
    {
     "name": "stderr",
     "output_type": "stream",
     "text": [
      "\r",
      " 67%|███████████████████████████████████████████████████████                           | 41/61 [18:28<08:07, 24.35s/it]"
     ]
    },
    {
     "name": "stdout",
     "output_type": "stream",
     "text": [
      "------------------------------\n",
      "INITIAL GRAPH DESCRIPTION:\n",
      "Name: Zombie epidemic spread dynamics graph\n",
      "Type: DiGraph\n",
      "Number of nodes: 44100\n",
      "Number of edges: 350284\n",
      "Average in degree:   7.9429\n",
      "Average out degree:   7.9429\n",
      "Initial date of epidemic:\t18-08-2019\n",
      "Initial human population: \t66148500 (100.00\\% of all population)\n",
      "Initial zombie population: \t1000 (0.00\\% of all population)\n",
      "\n",
      "CURRENT GRAPH DESCRIPTION\n",
      "Date of epidemic:\t\t29-09-2019\n",
      "Total human population: \t60667500 (91.71\\% of all population)\n",
      "Total zombie population: \t3172500 (4.80\\% of all population)\n",
      "------------------------------\n"
     ]
    },
    {
     "name": "stderr",
     "output_type": "stream",
     "text": [
      "\r",
      " 69%|████████████████████████████████████████████████████████▍                         | 42/61 [18:53<07:42, 24.32s/it]"
     ]
    },
    {
     "name": "stdout",
     "output_type": "stream",
     "text": [
      "------------------------------\n",
      "INITIAL GRAPH DESCRIPTION:\n",
      "Name: Zombie epidemic spread dynamics graph\n",
      "Type: DiGraph\n",
      "Number of nodes: 44100\n",
      "Number of edges: 350284\n",
      "Average in degree:   7.9429\n",
      "Average out degree:   7.9429\n",
      "Initial date of epidemic:\t18-08-2019\n",
      "Initial human population: \t66148500 (100.00\\% of all population)\n",
      "Initial zombie population: \t1000 (0.00\\% of all population)\n",
      "\n",
      "CURRENT GRAPH DESCRIPTION\n",
      "Date of epidemic:\t\t30-09-2019\n",
      "Total human population: \t60408000 (91.32\\% of all population)\n",
      "Total zombie population: \t3262500 (4.93\\% of all population)\n",
      "------------------------------\n"
     ]
    },
    {
     "name": "stderr",
     "output_type": "stream",
     "text": [
      "\r",
      " 70%|█████████████████████████████████████████████████████████▊                        | 43/61 [19:17<07:16, 24.24s/it]"
     ]
    },
    {
     "name": "stdout",
     "output_type": "stream",
     "text": [
      "------------------------------\n",
      "INITIAL GRAPH DESCRIPTION:\n",
      "Name: Zombie epidemic spread dynamics graph\n",
      "Type: DiGraph\n",
      "Number of nodes: 44100\n",
      "Number of edges: 350284\n",
      "Average in degree:   7.9429\n",
      "Average out degree:   7.9429\n",
      "Initial date of epidemic:\t18-08-2019\n",
      "Initial human population: \t66148500 (100.00\\% of all population)\n",
      "Initial zombie population: \t1000 (0.00\\% of all population)\n",
      "\n",
      "CURRENT GRAPH DESCRIPTION\n",
      "Date of epidemic:\t\t01-10-2019\n",
      "Total human population: \t60142500 (90.92\\% of all population)\n",
      "Total zombie population: \t3352500 (5.07\\% of all population)\n",
      "------------------------------\n"
     ]
    },
    {
     "name": "stderr",
     "output_type": "stream",
     "text": [
      "\r",
      " 72%|███████████████████████████████████████████████████████████▏                      | 44/61 [19:41<06:52, 24.27s/it]"
     ]
    },
    {
     "name": "stdout",
     "output_type": "stream",
     "text": [
      "------------------------------\n",
      "INITIAL GRAPH DESCRIPTION:\n",
      "Name: Zombie epidemic spread dynamics graph\n",
      "Type: DiGraph\n",
      "Number of nodes: 44100\n",
      "Number of edges: 350284\n",
      "Average in degree:   7.9429\n",
      "Average out degree:   7.9429\n",
      "Initial date of epidemic:\t18-08-2019\n",
      "Initial human population: \t66148500 (100.00\\% of all population)\n",
      "Initial zombie population: \t1000 (0.00\\% of all population)\n",
      "\n",
      "CURRENT GRAPH DESCRIPTION\n",
      "Date of epidemic:\t\t02-10-2019\n",
      "Total human population: \t59871000 (90.51\\% of all population)\n",
      "Total zombie population: \t3442500 (5.20\\% of all population)\n",
      "------------------------------\n"
     ]
    },
    {
     "name": "stderr",
     "output_type": "stream",
     "text": [
      "\r",
      " 74%|████████████████████████████████████████████████████████████▍                     | 45/61 [20:05<06:28, 24.28s/it]"
     ]
    },
    {
     "name": "stdout",
     "output_type": "stream",
     "text": [
      "------------------------------\n",
      "INITIAL GRAPH DESCRIPTION:\n",
      "Name: Zombie epidemic spread dynamics graph\n",
      "Type: DiGraph\n",
      "Number of nodes: 44100\n",
      "Number of edges: 350284\n",
      "Average in degree:   7.9429\n",
      "Average out degree:   7.9429\n",
      "Initial date of epidemic:\t18-08-2019\n",
      "Initial human population: \t66148500 (100.00\\% of all population)\n",
      "Initial zombie population: \t1000 (0.00\\% of all population)\n",
      "\n",
      "CURRENT GRAPH DESCRIPTION\n",
      "Date of epidemic:\t\t03-10-2019\n",
      "Total human population: \t59593500 (90.09\\% of all population)\n",
      "Total zombie population: \t3532500 (5.34\\% of all population)\n",
      "------------------------------\n"
     ]
    },
    {
     "name": "stderr",
     "output_type": "stream",
     "text": [
      "\r",
      " 75%|█████████████████████████████████████████████████████████████▊                    | 46/61 [20:30<06:05, 24.36s/it]"
     ]
    },
    {
     "name": "stdout",
     "output_type": "stream",
     "text": [
      "------------------------------\n",
      "INITIAL GRAPH DESCRIPTION:\n",
      "Name: Zombie epidemic spread dynamics graph\n",
      "Type: DiGraph\n",
      "Number of nodes: 44100\n",
      "Number of edges: 350284\n",
      "Average in degree:   7.9429\n",
      "Average out degree:   7.9429\n",
      "Initial date of epidemic:\t18-08-2019\n",
      "Initial human population: \t66148500 (100.00\\% of all population)\n",
      "Initial zombie population: \t1000 (0.00\\% of all population)\n",
      "\n",
      "CURRENT GRAPH DESCRIPTION\n",
      "Date of epidemic:\t\t04-10-2019\n",
      "Total human population: \t59310000 (89.66\\% of all population)\n",
      "Total zombie population: \t3622500 (5.48\\% of all population)\n",
      "------------------------------\n"
     ]
    },
    {
     "name": "stderr",
     "output_type": "stream",
     "text": [
      "\r",
      " 77%|███████████████████████████████████████████████████████████████▏                  | 47/61 [20:54<05:40, 24.33s/it]"
     ]
    },
    {
     "name": "stdout",
     "output_type": "stream",
     "text": [
      "------------------------------\n",
      "INITIAL GRAPH DESCRIPTION:\n",
      "Name: Zombie epidemic spread dynamics graph\n",
      "Type: DiGraph\n",
      "Number of nodes: 44100\n",
      "Number of edges: 350284\n",
      "Average in degree:   7.9429\n",
      "Average out degree:   7.9429\n",
      "Initial date of epidemic:\t18-08-2019\n",
      "Initial human population: \t66148500 (100.00\\% of all population)\n",
      "Initial zombie population: \t1000 (0.00\\% of all population)\n",
      "\n",
      "CURRENT GRAPH DESCRIPTION\n",
      "Date of epidemic:\t\t05-10-2019\n",
      "Total human population: \t59020500 (89.22\\% of all population)\n",
      "Total zombie population: \t3712500 (5.61\\% of all population)\n",
      "------------------------------\n"
     ]
    },
    {
     "name": "stderr",
     "output_type": "stream",
     "text": [
      "\r",
      " 79%|████████████████████████████████████████████████████████████████▌                 | 48/61 [21:19<05:18, 24.54s/it]"
     ]
    },
    {
     "name": "stdout",
     "output_type": "stream",
     "text": [
      "------------------------------\n",
      "INITIAL GRAPH DESCRIPTION:\n",
      "Name: Zombie epidemic spread dynamics graph\n",
      "Type: DiGraph\n",
      "Number of nodes: 44100\n",
      "Number of edges: 350284\n",
      "Average in degree:   7.9429\n",
      "Average out degree:   7.9429\n",
      "Initial date of epidemic:\t18-08-2019\n",
      "Initial human population: \t66148500 (100.00\\% of all population)\n",
      "Initial zombie population: \t1000 (0.00\\% of all population)\n",
      "\n",
      "CURRENT GRAPH DESCRIPTION\n",
      "Date of epidemic:\t\t06-10-2019\n",
      "Total human population: \t58725000 (88.78\\% of all population)\n",
      "Total zombie population: \t3802500 (5.75\\% of all population)\n",
      "------------------------------\n"
     ]
    },
    {
     "name": "stderr",
     "output_type": "stream",
     "text": [
      "\r",
      " 80%|█████████████████████████████████████████████████████████████████▊                | 49/61 [21:43<04:52, 24.39s/it]"
     ]
    },
    {
     "name": "stdout",
     "output_type": "stream",
     "text": [
      "------------------------------\n",
      "INITIAL GRAPH DESCRIPTION:\n",
      "Name: Zombie epidemic spread dynamics graph\n",
      "Type: DiGraph\n",
      "Number of nodes: 44100\n",
      "Number of edges: 350284\n",
      "Average in degree:   7.9429\n",
      "Average out degree:   7.9429\n",
      "Initial date of epidemic:\t18-08-2019\n",
      "Initial human population: \t66148500 (100.00\\% of all population)\n",
      "Initial zombie population: \t1000 (0.00\\% of all population)\n",
      "\n",
      "CURRENT GRAPH DESCRIPTION\n",
      "Date of epidemic:\t\t07-10-2019\n",
      "Total human population: \t58423500 (88.32\\% of all population)\n",
      "Total zombie population: \t3892500 (5.88\\% of all population)\n",
      "------------------------------\n"
     ]
    },
    {
     "name": "stderr",
     "output_type": "stream",
     "text": [
      "\r",
      " 82%|███████████████████████████████████████████████████████████████████▏              | 50/61 [22:07<04:27, 24.36s/it]"
     ]
    },
    {
     "name": "stdout",
     "output_type": "stream",
     "text": [
      "------------------------------\n",
      "INITIAL GRAPH DESCRIPTION:\n",
      "Name: Zombie epidemic spread dynamics graph\n",
      "Type: DiGraph\n",
      "Number of nodes: 44100\n",
      "Number of edges: 350284\n",
      "Average in degree:   7.9429\n",
      "Average out degree:   7.9429\n",
      "Initial date of epidemic:\t18-08-2019\n",
      "Initial human population: \t66148500 (100.00\\% of all population)\n",
      "Initial zombie population: \t1000 (0.00\\% of all population)\n",
      "\n",
      "CURRENT GRAPH DESCRIPTION\n",
      "Date of epidemic:\t\t08-10-2019\n",
      "Total human population: \t58116000 (87.86\\% of all population)\n",
      "Total zombie population: \t3982500 (6.02\\% of all population)\n",
      "------------------------------\n"
     ]
    },
    {
     "name": "stderr",
     "output_type": "stream",
     "text": [
      "\r",
      " 84%|████████████████████████████████████████████████████████████████████▌             | 51/61 [22:32<04:03, 24.38s/it]"
     ]
    },
    {
     "name": "stdout",
     "output_type": "stream",
     "text": [
      "------------------------------\n",
      "INITIAL GRAPH DESCRIPTION:\n",
      "Name: Zombie epidemic spread dynamics graph\n",
      "Type: DiGraph\n",
      "Number of nodes: 44100\n",
      "Number of edges: 350284\n",
      "Average in degree:   7.9429\n",
      "Average out degree:   7.9429\n",
      "Initial date of epidemic:\t18-08-2019\n",
      "Initial human population: \t66148500 (100.00\\% of all population)\n",
      "Initial zombie population: \t1000 (0.00\\% of all population)\n",
      "\n",
      "CURRENT GRAPH DESCRIPTION\n",
      "Date of epidemic:\t\t09-10-2019\n",
      "Total human population: \t57802500 (87.38\\% of all population)\n",
      "Total zombie population: \t4072500 (6.16\\% of all population)\n",
      "------------------------------\n"
     ]
    },
    {
     "name": "stderr",
     "output_type": "stream",
     "text": [
      "\r",
      " 85%|█████████████████████████████████████████████████████████████████████▉            | 52/61 [22:56<03:38, 24.32s/it]"
     ]
    },
    {
     "name": "stdout",
     "output_type": "stream",
     "text": [
      "------------------------------\n",
      "INITIAL GRAPH DESCRIPTION:\n",
      "Name: Zombie epidemic spread dynamics graph\n",
      "Type: DiGraph\n",
      "Number of nodes: 44100\n",
      "Number of edges: 350284\n",
      "Average in degree:   7.9429\n",
      "Average out degree:   7.9429\n",
      "Initial date of epidemic:\t18-08-2019\n",
      "Initial human population: \t66148500 (100.00\\% of all population)\n",
      "Initial zombie population: \t1000 (0.00\\% of all population)\n",
      "\n",
      "CURRENT GRAPH DESCRIPTION\n",
      "Date of epidemic:\t\t10-10-2019\n",
      "Total human population: \t57483000 (86.90\\% of all population)\n",
      "Total zombie population: \t4162500 (6.29\\% of all population)\n",
      "------------------------------\n"
     ]
    },
    {
     "name": "stderr",
     "output_type": "stream",
     "text": [
      "\r",
      " 87%|███████████████████████████████████████████████████████████████████████▏          | 53/61 [23:20<03:14, 24.25s/it]"
     ]
    },
    {
     "name": "stdout",
     "output_type": "stream",
     "text": [
      "------------------------------\n",
      "INITIAL GRAPH DESCRIPTION:\n",
      "Name: Zombie epidemic spread dynamics graph\n",
      "Type: DiGraph\n",
      "Number of nodes: 44100\n",
      "Number of edges: 350284\n",
      "Average in degree:   7.9429\n",
      "Average out degree:   7.9429\n",
      "Initial date of epidemic:\t18-08-2019\n",
      "Initial human population: \t66148500 (100.00\\% of all population)\n",
      "Initial zombie population: \t1000 (0.00\\% of all population)\n",
      "\n",
      "CURRENT GRAPH DESCRIPTION\n",
      "Date of epidemic:\t\t11-10-2019\n",
      "Total human population: \t57157500 (86.41\\% of all population)\n",
      "Total zombie population: \t4252500 (6.43\\% of all population)\n",
      "------------------------------\n"
     ]
    },
    {
     "name": "stderr",
     "output_type": "stream",
     "text": [
      "\r",
      " 89%|████████████████████████████████████████████████████████████████████████▌         | 54/61 [23:44<02:49, 24.28s/it]"
     ]
    },
    {
     "name": "stdout",
     "output_type": "stream",
     "text": [
      "------------------------------\n",
      "INITIAL GRAPH DESCRIPTION:\n",
      "Name: Zombie epidemic spread dynamics graph\n",
      "Type: DiGraph\n",
      "Number of nodes: 44100\n",
      "Number of edges: 350284\n",
      "Average in degree:   7.9429\n",
      "Average out degree:   7.9429\n",
      "Initial date of epidemic:\t18-08-2019\n",
      "Initial human population: \t66148500 (100.00\\% of all population)\n",
      "Initial zombie population: \t1000 (0.00\\% of all population)\n",
      "\n",
      "CURRENT GRAPH DESCRIPTION\n",
      "Date of epidemic:\t\t12-10-2019\n",
      "Total human population: \t56826000 (85.91\\% of all population)\n",
      "Total zombie population: \t4342500 (6.56\\% of all population)\n",
      "------------------------------\n"
     ]
    },
    {
     "name": "stderr",
     "output_type": "stream",
     "text": [
      "\r",
      " 90%|█████████████████████████████████████████████████████████████████████████▉        | 55/61 [24:09<02:25, 24.29s/it]"
     ]
    },
    {
     "name": "stdout",
     "output_type": "stream",
     "text": [
      "------------------------------\n",
      "INITIAL GRAPH DESCRIPTION:\n",
      "Name: Zombie epidemic spread dynamics graph\n",
      "Type: DiGraph\n",
      "Number of nodes: 44100\n",
      "Number of edges: 350284\n",
      "Average in degree:   7.9429\n",
      "Average out degree:   7.9429\n",
      "Initial date of epidemic:\t18-08-2019\n",
      "Initial human population: \t66148500 (100.00\\% of all population)\n",
      "Initial zombie population: \t1000 (0.00\\% of all population)\n",
      "\n",
      "CURRENT GRAPH DESCRIPTION\n",
      "Date of epidemic:\t\t13-10-2019\n",
      "Total human population: \t56488500 (85.40\\% of all population)\n",
      "Total zombie population: \t4432500 (6.70\\% of all population)\n",
      "------------------------------\n"
     ]
    },
    {
     "name": "stderr",
     "output_type": "stream",
     "text": [
      "\r",
      " 92%|███████████████████████████████████████████████████████████████████████████▎      | 56/61 [24:35<02:04, 24.92s/it]"
     ]
    },
    {
     "name": "stdout",
     "output_type": "stream",
     "text": [
      "------------------------------\n",
      "INITIAL GRAPH DESCRIPTION:\n",
      "Name: Zombie epidemic spread dynamics graph\n",
      "Type: DiGraph\n",
      "Number of nodes: 44100\n",
      "Number of edges: 350284\n",
      "Average in degree:   7.9429\n",
      "Average out degree:   7.9429\n",
      "Initial date of epidemic:\t18-08-2019\n",
      "Initial human population: \t66148500 (100.00\\% of all population)\n",
      "Initial zombie population: \t1000 (0.00\\% of all population)\n",
      "\n",
      "CURRENT GRAPH DESCRIPTION\n",
      "Date of epidemic:\t\t14-10-2019\n",
      "Total human population: \t56145000 (84.88\\% of all population)\n",
      "Total zombie population: \t4522500 (6.84\\% of all population)\n",
      "------------------------------\n"
     ]
    },
    {
     "name": "stderr",
     "output_type": "stream",
     "text": [
      "\r",
      " 93%|████████████████████████████████████████████████████████████████████████████▌     | 57/61 [25:00<01:39, 24.97s/it]"
     ]
    },
    {
     "name": "stdout",
     "output_type": "stream",
     "text": [
      "------------------------------\n",
      "INITIAL GRAPH DESCRIPTION:\n",
      "Name: Zombie epidemic spread dynamics graph\n",
      "Type: DiGraph\n",
      "Number of nodes: 44100\n",
      "Number of edges: 350284\n",
      "Average in degree:   7.9429\n",
      "Average out degree:   7.9429\n",
      "Initial date of epidemic:\t18-08-2019\n",
      "Initial human population: \t66148500 (100.00\\% of all population)\n",
      "Initial zombie population: \t1000 (0.00\\% of all population)\n",
      "\n",
      "CURRENT GRAPH DESCRIPTION\n",
      "Date of epidemic:\t\t15-10-2019\n",
      "Total human population: \t55795500 (84.35\\% of all population)\n",
      "Total zombie population: \t4612500 (6.97\\% of all population)\n",
      "------------------------------\n"
     ]
    },
    {
     "name": "stderr",
     "output_type": "stream",
     "text": [
      "\r",
      " 95%|█████████████████████████████████████████████████████████████████████████████▉    | 58/61 [25:25<01:14, 24.80s/it]"
     ]
    },
    {
     "name": "stdout",
     "output_type": "stream",
     "text": [
      "------------------------------\n",
      "INITIAL GRAPH DESCRIPTION:\n",
      "Name: Zombie epidemic spread dynamics graph\n",
      "Type: DiGraph\n",
      "Number of nodes: 44100\n",
      "Number of edges: 350284\n",
      "Average in degree:   7.9429\n",
      "Average out degree:   7.9429\n",
      "Initial date of epidemic:\t18-08-2019\n",
      "Initial human population: \t66148500 (100.00\\% of all population)\n",
      "Initial zombie population: \t1000 (0.00\\% of all population)\n",
      "\n",
      "CURRENT GRAPH DESCRIPTION\n",
      "Date of epidemic:\t\t16-10-2019\n",
      "Total human population: \t55440000 (83.81\\% of all population)\n",
      "Total zombie population: \t4702500 (7.11\\% of all population)\n",
      "------------------------------\n"
     ]
    },
    {
     "name": "stderr",
     "output_type": "stream",
     "text": [
      "\r",
      " 97%|███████████████████████████████████████████████████████████████████████████████▎  | 59/61 [25:49<00:49, 24.65s/it]"
     ]
    },
    {
     "name": "stdout",
     "output_type": "stream",
     "text": [
      "------------------------------\n",
      "INITIAL GRAPH DESCRIPTION:\n",
      "Name: Zombie epidemic spread dynamics graph\n",
      "Type: DiGraph\n",
      "Number of nodes: 44100\n",
      "Number of edges: 350284\n",
      "Average in degree:   7.9429\n",
      "Average out degree:   7.9429\n",
      "Initial date of epidemic:\t18-08-2019\n",
      "Initial human population: \t66148500 (100.00\\% of all population)\n",
      "Initial zombie population: \t1000 (0.00\\% of all population)\n",
      "\n",
      "CURRENT GRAPH DESCRIPTION\n",
      "Date of epidemic:\t\t17-10-2019\n",
      "Total human population: \t55078500 (83.26\\% of all population)\n",
      "Total zombie population: \t4792500 (7.24\\% of all population)\n",
      "------------------------------\n"
     ]
    },
    {
     "name": "stderr",
     "output_type": "stream",
     "text": [
      "\r",
      " 98%|████████████████████████████████████████████████████████████████████████████████▋ | 60/61 [26:13<00:24, 24.51s/it]"
     ]
    },
    {
     "name": "stdout",
     "output_type": "stream",
     "text": [
      "------------------------------\n",
      "INITIAL GRAPH DESCRIPTION:\n",
      "Name: Zombie epidemic spread dynamics graph\n",
      "Type: DiGraph\n",
      "Number of nodes: 44100\n",
      "Number of edges: 350284\n",
      "Average in degree:   7.9429\n",
      "Average out degree:   7.9429\n",
      "Initial date of epidemic:\t18-08-2019\n",
      "Initial human population: \t66148500 (100.00\\% of all population)\n",
      "Initial zombie population: \t1000 (0.00\\% of all population)\n",
      "\n",
      "CURRENT GRAPH DESCRIPTION\n",
      "Date of epidemic:\t\t18-10-2019\n",
      "Total human population: \t54711000 (82.71\\% of all population)\n",
      "Total zombie population: \t4882500 (7.38\\% of all population)\n",
      "------------------------------\n"
     ]
    },
    {
     "name": "stderr",
     "output_type": "stream",
     "text": [
      "100%|██████████████████████████████████████████████████████████████████████████████████| 61/61 [26:38<00:00, 26.20s/it]\n"
     ]
    }
   ],
   "source": [
    "graph_2months = 1\n",
    "for epoch in tqdm.tqdm(range(61)): # Just 20 epochs\n",
    "    dynamic.step() # Run one step in dynamic procedure\n",
    "    if epoch == 60 : graph_2months = dynamic.graph\n",
    "    print(dynamic) # See basic statistics at each iteration"
   ]
  },
  {
   "cell_type": "markdown",
   "id": "7fdfe845",
   "metadata": {},
   "source": [
    "# Approximation algorithm (Vertex cover)"
   ]
  },
  {
   "cell_type": "code",
   "execution_count": 27,
   "id": "bba49858",
   "metadata": {},
   "outputs": [
    {
     "name": "stdout",
     "output_type": "stream",
     "text": [
      "['U88', 'U58', 'U39', 'U19', 'U78', 'U69', 'U21', 'U89', 'U45', 'U99', 'U41', 'U96', 'U48', 'U74', 'U42', 'U95', 'U38', 'U24', 'U23', 'U2', 'U15', 'U77', 'U43', 'U6', 'U90', 'U18', 'U29', 'U27', 'U98', 'U50', 'U36', 'U28', 'U52', 'U13', 'U5', 'U94', 'U3', 'U10', 'U51', 'U7', 'U54', 'U81', 'U75', 'U16', 'U91', 'U0', 'U20', 'U83', 'U34', 'U4', 'U56', 'U66', 'U59', 'U30', 'U1', 'U9', 'U61', 'U17', 'U79', 'U49', 'U67', 'U47', 'U93', 'U65', 'U37', 'U33', 'U12', 'U55', 'U71', 'U68', 'U87', 'U57', 'U62', 'U35', 'U82', 'U32', 'U92', 'U64', 'U73', 'U97', 'U60', 'U14', 'U85', 'U76', 'U80', 'U86', 'U46', 'U70', 'U8', 'U11', 'U40', 'U53', 'U31', 'U84', 'U44', 'U26', 'U25', 'U63', 'U22', 'U72']\n"
     ]
    }
   ],
   "source": [
    "vertex_cover = list(min_weighted_vertex_cover(graph_2months, weight=\"elev_factor\"))\n",
    "nodes = sorted(graph_2months.degree, key=lambda x: x[1], reverse=True)\n",
    "print(vertex_cover)\n",
    "\n",
    "military_cells = []\n",
    "for n in nodes:\n",
    "    if n[0] in vertex_cover and len(military_cells) <20:\n",
    "        military_cells.append(n)\n",
    "#print(military_cells)"
   ]
  },
  {
   "cell_type": "code",
   "execution_count": 46,
   "id": "765a8443",
   "metadata": {},
   "outputs": [
    {
     "name": "stdout",
     "output_type": "stream",
     "text": [
      "[(0, 1), (0, 2), (0, 3), (0, 4), (0, 5), (0, 6), (0, 7), (0, 8), (0, 9), (0, 10), (0, 11), (0, 12), (0, 13), (0, 14), (0, 15), (0, 16), (0, 17), (0, 18), (0, 19), (0, 20), (0, 21), (0, 22), (0, 23), (0, 24), (0, 25), (26, 0), (27, 0), (28, 0), (29, 0), (30, 0), (31, 0), (32, 0), (33, 0), (34, 0), (35, 0), (36, 0), (37, 0), (38, 0), (39, 0), (40, 0), (41, 0), (42, 0), (43, 0), (44, 0), (45, 0), (46, 0), (47, 0), (48, 0), (49, 0), (50, 0)]\n"
     ]
    }
   ],
   "source": [
    "def is_cover(G, node_cover):\n",
    "    return all({u, v} & node_cover for u, v in G.edges())\n",
    "\n",
    "# Create a star graph in which half the nodes are directed in\n",
    "# and half are directed out.\n",
    "G = nx.DiGraph()\n",
    "G.add_edges_from((0, v) for v in range(1, 26))\n",
    "G.add_edges_from((v, 0) for v in range(26, 51))\n",
    "cover = min_weighted_vertex_cover(G)\n",
    "\n",
    "print(G.edges)"
   ]
  },
  {
   "cell_type": "markdown",
   "id": "f8cb9c11",
   "metadata": {},
   "source": [
    "# Betweenness Centrality"
   ]
  },
  {
   "cell_type": "code",
   "execution_count": 19,
   "id": "fa23c9a3",
   "metadata": {},
   "outputs": [
    {
     "name": "stdout",
     "output_type": "stream",
     "text": [
      "{'U54': 0.08934854408689252, 'U55': 0.08934854408689251, 'U44': 0.0893485440868925, 'U45': 0.0893485440868925, 'U56': 0.0802380735182659, 'U53': 0.08023807351826588, 'U64': 0.08023807351826588, 'U34': 0.08023807351826587, 'U35': 0.08023807351826587, 'U43': 0.08023807351826587, 'U46': 0.08023807351826585, 'U65': 0.08023807351826585, 'U33': 0.07422118575980151, 'U63': 0.07422118575980151, 'U66': 0.07422118575980151, 'U36': 0.0742211857598015, 'U42': 0.0642920238361658, 'U47': 0.0642920238361658, 'U74': 0.06429202383616578, 'U24': 0.06429202383616577, 'U25': 0.06429202383616575, 'U57': 0.06429202383616575, 'U75': 0.06429202383616575, 'U52': 0.06429202383616574, 'U32': 0.06012416949363366, 'U37': 0.06012416949363366, 'U23': 0.060124169493633646, 'U62': 0.060124169493633646, 'U76': 0.060124169493633646, 'U26': 0.06012416949363364, 'U67': 0.06012416949363364, 'U73': 0.06012416949363364, 'U22': 0.051653018259499105, 'U27': 0.051653018259499105, 'U77': 0.0516530182594991, 'U72': 0.05165301825949909, 'U51': 0.041247099829237785, 'U58': 0.041247099829237785, 'U15': 0.04124709982923778, 'U41': 0.04124709982923778, 'U48': 0.04124709982923778, 'U84': 0.04124709982923778, 'U85': 0.04124709982923778, 'U14': 0.041247099829237764, 'U13': 0.038986366787534775, 'U68': 0.038986366787534775, 'U83': 0.038986366787534775, 'U16': 0.03898636678753477, 'U31': 0.03898636678753477, 'U38': 0.03898636678753477, 'U61': 0.03898636678753477, 'U86': 0.03898636678753477, 'U71': 0.034117956309679204, 'U82': 0.034117956309679204, 'U28': 0.0341179563096792, 'U78': 0.0341179563096792, 'U87': 0.0341179563096792, 'U12': 0.03411795630967919, 'U17': 0.03411795630967919, 'U21': 0.03411795630967918, 'U81': 0.026258853087951714, 'U88': 0.026258853087951714, 'U18': 0.0262588530879517, 'U11': 0.026258853087951697, 'U49': 0.009198515081603997, 'U94': 0.009198515081603997, 'U4': 0.009198515081603995, 'U5': 0.009198515081603995, 'U40': 0.009198515081603995, 'U50': 0.009198515081603995, 'U59': 0.009198515081603995, 'U95': 0.009198515081603995, 'U93': 0.008582042150632789, 'U3': 0.008582042150632787, 'U6': 0.008582042150632787, 'U60': 0.008582042150632787, 'U69': 0.008582042150632787, 'U96': 0.008582042150632786, 'U30': 0.008582042150632784, 'U39': 0.008582042150632784, 'U92': 0.007210299907505417, 'U7': 0.007210299907505415, 'U20': 0.007210299907505415, 'U29': 0.007210299907505415, 'U70': 0.007210299907505415, 'U79': 0.007210299907505415, 'U97': 0.007210299907505415, 'U2': 0.007210299907505414, 'U8': 0.004650407590709205, 'U1': 0.004650407590709203, 'U91': 0.004650407590709203, 'U10': 0.0046504075907092025, 'U19': 0.0046504075907092025, 'U80': 0.0046504075907092025, 'U89': 0.0046504075907092025, 'U98': 0.0046504075907092025, 'U0': 0.0, 'U9': 0.0, 'U90': 0.0, 'U99': 0.0}\n"
     ]
    }
   ],
   "source": [
    "# from collections import OrderedDict\n",
    "# bet_centrality = nx.betweenness_centrality(graph_2months, normalized = True, \n",
    "#                                               endpoints = False)\n",
    "  \n",
    "# G is the Karate Social Graph, parameters normalized\n",
    "# and endpoints ensure whether we normalize the value\n",
    "# and consider the endpoints respectively.\n",
    "\n",
    "# d_descending = OrderedDict(sorted(bet_centrality.items(), \n",
    "#                                   key=lambda kv: kv[1], reverse=True))\n",
    "# print(dict(d_descending))"
   ]
  },
  {
   "cell_type": "markdown",
   "id": "a95588be",
   "metadata": {},
   "source": [
    "# Highest degree for immunization"
   ]
  },
  {
   "cell_type": "code",
   "execution_count": 64,
   "id": "43d50d9e",
   "metadata": {},
   "outputs": [],
   "source": [
    "import time\n",
    "import operator"
   ]
  },
  {
   "cell_type": "code",
   "execution_count": 67,
   "id": "3490916c",
   "metadata": {},
   "outputs": [],
   "source": [
    "G = copy.deepcopy(graph_2months)\n",
    "T = 4000"
   ]
  },
  {
   "cell_type": "code",
   "execution_count": null,
   "id": "f995363a",
   "metadata": {},
   "outputs": [
    {
     "name": "stdout",
     "output_type": "stream",
     "text": [
      "Initial UpperBound: 44100\n"
     ]
    }
   ],
   "source": [
    "#RECORD START TIME\n",
    "start_time=time.time()\n",
    "end_time=start_time\n",
    "delta_time=end_time-start_time\n",
    "times=[]    #list of times when solution is found, tuple=(VC size,delta_time)\n",
    "\n",
    "# INITIALIZE SOLUTION VC SETS AND FRONTIER SET TO EMPTY SET\n",
    "OptVC = []\n",
    "CurVC = []\n",
    "Frontier = []\n",
    "neighbor = []\n",
    "\n",
    "# ESTABLISH INITIAL UPPER BOUND\n",
    "UpperBound = G.number_of_nodes()\n",
    "print('Initial UpperBound:', UpperBound)\n",
    "\n",
    "CurG = G.copy()  # make a copy of G\n",
    "# sort dictionary of degree of nodes to find node with highest degree\n",
    "v = find_maxdeg(CurG)\n",
    "#v=(1,0)\n",
    "\n",
    "# APPEND (V,1,(parent,state)) and (V,0,(parent,state)) TO FRONTIER\n",
    "Frontier.append((v[0], 0, (-1, -1)))  # tuples of node,state,(parent vertex,parent vertex state)\n",
    "Frontier.append((v[0], 1, (-1, -1)))\n",
    "# print(Frontier)\n",
    "\n",
    "while Frontier!=[] and delta_time<T:\n",
    "    (vi,state,parent)=Frontier.pop() #set current node to last element in Frontier\n",
    "\n",
    "    #print('New Iteration(vi,state,parent):', vi, state, parent)\n",
    "    backtrack = False\n",
    "\n",
    "    #print(parent[0])\n",
    "    # print('Neigh',vi,neighbor)\n",
    "    # print('Remaining no of edges',CurG.number_of_edges())\n",
    "\n",
    "\n",
    "    if state == 0:  # if vi is not selected, state of all neighbors=1\n",
    "        neighbor = CurG.neighbors(vi)  # store all neighbors of vi\n",
    "        for node in list(neighbor):\n",
    "            CurVC.append((node, 1))\n",
    "            CurG.remove_node(node)  # node is in VC, remove neighbors from CurG\n",
    "    elif state == 1:  # if vi is selected, state of all neighbors=0\n",
    "        # print('curg',CurG.nodes())\n",
    "        CurG.remove_node(vi)  # vi is in VC,remove node from G\n",
    "        #print('new curG',CurG.edges())\n",
    "    else:\n",
    "        pass\n",
    "\n",
    "    CurVC.append((vi, state))\n",
    "    CurVC_size = VC_Size(CurVC)\n",
    "    #print('CurVC Size', CurVC_size)\n",
    "    # print(CurG.number_of_edges())\n",
    "    # print(CurG.edges())\n",
    "\n",
    "    # print('no of edges',CurG.number_of_edges())\n",
    "    if CurG.number_of_edges() == 0:  # end of exploring, solution found\n",
    "        #print('In FIRST IF STATEMENT')\n",
    "        if CurVC_size < UpperBound:\n",
    "            OptVC = CurVC.copy()\n",
    "            #print('OPTIMUM:', OptVC)\n",
    "            print('Current Opt VC size', CurVC_size)\n",
    "            UpperBound = CurVC_size\n",
    "            #print('New VC:',OptVC)\n",
    "            times.append((CurVC_size,time.time()-start_time))\n",
    "        backtrack = True\n",
    "        #print('First backtrack-vertex-',vi)\n",
    "\n",
    "    else:   #partial solution\n",
    "        #maxnode, maxdegree = find_maxdeg(CurG)\n",
    "        CurLB = Lowerbound(CurG) + CurVC_size\n",
    "        #print(CurLB)\n",
    "        #CurLB=297\n",
    "\n",
    "        if CurLB < UpperBound:  # worth exploring\n",
    "            # print('upper',UpperBound)\n",
    "            vj = find_maxdeg(CurG)\n",
    "            Frontier.append((vj[0], 0, (vi, state)))#(vi,state) is parent of vj\n",
    "            Frontier.append((vj[0], 1, (vi, state)))\n",
    "            # print('Frontier',Frontier)\n",
    "        else:\n",
    "            # end of path, will result in worse solution,backtrack to parent\n",
    "            backtrack=True\n",
    "            #print('Second backtrack-vertex-',vi)\n",
    "\n",
    "\n",
    "    if backtrack==True:\n",
    "        #print('Hello. CurNode:',vi,state)\n",
    "        if Frontier != []:\t#otherwise no more candidates to process\n",
    "            nextnode_parent = Frontier[-1][2] #parent of last element in Frontier (tuple of (vertex,state))\n",
    "            #print(nextnode_parent)\n",
    "\n",
    "            # backtrack to the level of nextnode_parent\n",
    "            if nextnode_parent in CurVC:\n",
    "\n",
    "                id = CurVC.index(nextnode_parent) + 1\n",
    "                while id < len(CurVC):\t#undo changes from end of CurVC back up to parent node\n",
    "                    mynode, mystate = CurVC.pop() #undo the addition to CurVC\n",
    "                    CurG.add_node(mynode)\t#undo the deletion from CurG\n",
    "\n",
    "                    # find all the edges connected to vi in Graph G\n",
    "                    # or the edges that connected to the nodes that not in current VC set.\n",
    "\n",
    "                    curVC_nodes = list(map(lambda t:t[0], CurVC))\n",
    "                    for nd in G.neighbors(mynode):\n",
    "                        if (nd in CurG.nodes()) and (nd not in curVC_nodes):\n",
    "                            CurG.add_edge(nd, mynode)\t#this adds edges of vi back to CurG that were possibly deleted\n",
    "\n",
    "            elif nextnode_parent == (-1, -1):\n",
    "                # backtrack to the root node\n",
    "                CurVC.clear()\n",
    "                CurG = G.copy()\n",
    "            else:\n",
    "                print('error in backtracking step')\n",
    "\n",
    "    end_time=time.time()\n",
    "    delta_time=end_time-start_time\n",
    "    if delta_time>T:\n",
    "        print('Cutoff time reached')\n",
    "\n"
   ]
  },
  {
   "cell_type": "code",
   "execution_count": 48,
   "id": "5f62ccb2",
   "metadata": {},
   "outputs": [],
   "source": [
    "#TO FIND THE VERTEX WITH MAXIMUM DEGREE IN REMAINING GRAPH\n",
    "def find_maxdeg(g):\n",
    "    deglist = dict(g.degree())\n",
    "    deglist_sorted = sorted(deglist.items(), reverse=True, key=operator.itemgetter(1))  # sort in descending order of node degree\n",
    "    v = deglist_sorted[0]  # tuple - (node,degree)\n",
    "    return v\n"
   ]
  },
  {
   "cell_type": "code",
   "execution_count": 37,
   "id": "ef0721c7",
   "metadata": {},
   "outputs": [],
   "source": [
    "#EXTIMATE LOWERBOUND\n",
    "def Lowerbound(graph):\n",
    "    lb=graph.number_of_edges() / find_maxdeg(graph)[1]\n",
    "    lb=ceil(lb)\n",
    "    return lb"
   ]
  },
  {
   "cell_type": "code",
   "execution_count": 38,
   "id": "9a4233b9",
   "metadata": {},
   "outputs": [],
   "source": [
    "def ceil(d):\n",
    "    \"\"\"\n",
    "        return the minimum integer that is bigger than d\n",
    "    \"\"\" \n",
    "    if d > int(d):\n",
    "        return int(d) + 1\n",
    "    else:\n",
    "        return int(d)"
   ]
  },
  {
   "cell_type": "code",
   "execution_count": 39,
   "id": "d890645e",
   "metadata": {},
   "outputs": [],
   "source": [
    "#CALCULATE SIZE OF VERTEX COVER (NUMBER OF NODES WITH STATE=1)\n",
    "def VC_Size(VC):\n",
    "    # VC is a tuple list, where each tuple = (node_ID, state, (node_ID, state)) vc_size is the number of nodes which has state == 1\n",
    "\n",
    "    vc_size = 0\n",
    "    for element in VC:\n",
    "        vc_size = vc_size + element[1]\n",
    "    return vc_size\n"
   ]
  },
  {
   "cell_type": "code",
   "execution_count": 57,
   "id": "c943d15e",
   "metadata": {},
   "outputs": [],
   "source": [
    "deglist = dict(cells.degree())\n",
    "deglist_sorted = sorted(deglist.items(), reverse=True, key=operator.itemgetter(1))  # sort in descending order of node degree"
   ]
  }
 ],
 "metadata": {
  "kernelspec": {
   "display_name": "grapht",
   "language": "python",
   "name": "grapht"
  },
  "language_info": {
   "codemirror_mode": {
    "name": "ipython",
    "version": 3
   },
   "file_extension": ".py",
   "mimetype": "text/x-python",
   "name": "python",
   "nbconvert_exporter": "python",
   "pygments_lexer": "ipython3",
   "version": "3.8.5"
  }
 },
 "nbformat": 4,
 "nbformat_minor": 5
}
