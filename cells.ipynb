{
 "cells": [
  {
   "cell_type": "code",
   "execution_count": 33,
   "id": "babbc5c1",
   "metadata": {
    "scrolled": true
   },
   "outputs": [],
   "source": [
    "from libraries.dynamics import spread_zombie_dynamics as szd\n",
    "from libraries.dynamics import graph_by_default\n",
    "from networkx.algorithms.approximation.vertex_cover import min_weighted_vertex_cover\n",
    "import datetime as dt\n",
    "import tqdm\n",
    "import networkx as nx\n",
    "import dwave_networkx as dnx\n",
    "import dimod"
   ]
  },
  {
   "cell_type": "code",
   "execution_count": 2,
   "id": "c02f161e",
   "metadata": {},
   "outputs": [
    {
     "name": "stdout",
     "output_type": "stream",
     "text": [
      "[INFO] Graph was modified ...\n"
     ]
    }
   ],
   "source": [
    "G = graph_by_default(nodes = 10)\n",
    "ini_date = dt.datetime(year = 2019, month = 8, day = 18)\n",
    "dynamic = szd(graph = G, INTIAL_DATE = ini_date)\n"
   ]
  },
  {
   "cell_type": "code",
   "execution_count": 3,
   "id": "8b1b358b",
   "metadata": {},
   "outputs": [
    {
     "name": "stderr",
     "output_type": "stream",
     "text": [
      "\r",
      "  0%|                                                                                           | 0/60 [00:00<?, ?it/s]"
     ]
    },
    {
     "name": "stdout",
     "output_type": "stream",
     "text": [
      "[INFO] Second step 3 \n",
      "------------------------------\n",
      "INITIAL GRAPH DESCRIPTION:\n",
      "Name: Zombie epidemic spread dynamics graph\n",
      "Type: DiGraph\n",
      "Number of nodes: 100\n",
      "Number of edges: 684\n",
      "Average in degree:   6.8400\n",
      "Average out degree:   6.8400\n",
      "Initial date of epidemic:\t18-08-2019\n",
      "Initial human population: \t148500 (99.33\\% of all population)\n",
      "Initial zombie population: \t1000 (0.67\\% of all population)\n",
      "\n",
      "CURRENT GRAPH DESCRIPTION\n",
      "Date of epidemic:\t\t19-08-2019\n",
      "Total human population: \t141000 (94.31\\% of all population)\n",
      "Total zombie population: \t8500 (5.69\\% of all population)\n",
      "------------------------------\n"
     ]
    },
    {
     "name": "stderr",
     "output_type": "stream",
     "text": [
      "\r",
      "  2%|█▍                                                                                 | 1/60 [00:00<00:47,  1.25it/s]"
     ]
    },
    {
     "name": "stdout",
     "output_type": "stream",
     "text": [
      "[INFO] Second step 3 \n",
      "------------------------------\n",
      "INITIAL GRAPH DESCRIPTION:\n",
      "Name: Zombie epidemic spread dynamics graph\n",
      "Type: DiGraph\n",
      "Number of nodes: 100\n",
      "Number of edges: 684\n",
      "Average in degree:   6.8400\n",
      "Average out degree:   6.8400\n",
      "Initial date of epidemic:\t18-08-2019\n",
      "Initial human population: \t148500 (99.33\\% of all population)\n",
      "Initial zombie population: \t1000 (0.67\\% of all population)\n",
      "\n",
      "CURRENT GRAPH DESCRIPTION\n",
      "Date of epidemic:\t\t20-08-2019\n",
      "Total human population: \t127500 (85.28\\% of all population)\n",
      "Total zombie population: \t22000 (14.72\\% of all population)\n",
      "------------------------------\n"
     ]
    },
    {
     "name": "stderr",
     "output_type": "stream",
     "text": [
      "\r",
      "  3%|██▊                                                                                | 2/60 [00:01<00:46,  1.25it/s]"
     ]
    },
    {
     "name": "stdout",
     "output_type": "stream",
     "text": [
      "[INFO] Second step 3 \n",
      "------------------------------\n",
      "INITIAL GRAPH DESCRIPTION:\n",
      "Name: Zombie epidemic spread dynamics graph\n",
      "Type: DiGraph\n",
      "Number of nodes: 100\n",
      "Number of edges: 684\n",
      "Average in degree:   6.8400\n",
      "Average out degree:   6.8400\n",
      "Initial date of epidemic:\t18-08-2019\n",
      "Initial human population: \t148500 (99.33\\% of all population)\n",
      "Initial zombie population: \t1000 (0.67\\% of all population)\n",
      "\n",
      "CURRENT GRAPH DESCRIPTION\n",
      "Date of epidemic:\t\t21-08-2019\n",
      "Total human population: \t108000 (72.24\\% of all population)\n",
      "Total zombie population: \t41500 (27.76\\% of all population)\n",
      "------------------------------\n"
     ]
    },
    {
     "name": "stderr",
     "output_type": "stream",
     "text": [
      "\r",
      "  5%|████▏                                                                              | 3/60 [00:02<00:45,  1.24it/s]"
     ]
    },
    {
     "name": "stdout",
     "output_type": "stream",
     "text": [
      "[INFO] Second step 3 \n",
      "------------------------------\n",
      "INITIAL GRAPH DESCRIPTION:\n",
      "Name: Zombie epidemic spread dynamics graph\n",
      "Type: DiGraph\n",
      "Number of nodes: 100\n",
      "Number of edges: 684\n",
      "Average in degree:   6.8400\n",
      "Average out degree:   6.8400\n",
      "Initial date of epidemic:\t18-08-2019\n",
      "Initial human population: \t148500 (99.33\\% of all population)\n",
      "Initial zombie population: \t1000 (0.67\\% of all population)\n",
      "\n",
      "CURRENT GRAPH DESCRIPTION\n",
      "Date of epidemic:\t\t22-08-2019\n",
      "Total human population: \t82500 (55.18\\% of all population)\n",
      "Total zombie population: \t67000 (44.82\\% of all population)\n",
      "------------------------------\n"
     ]
    },
    {
     "name": "stderr",
     "output_type": "stream",
     "text": [
      "\r",
      "  7%|█████▌                                                                             | 4/60 [00:03<00:45,  1.23it/s]"
     ]
    },
    {
     "name": "stdout",
     "output_type": "stream",
     "text": [
      "[INFO] Second step 3 \n",
      "------------------------------\n",
      "INITIAL GRAPH DESCRIPTION:\n",
      "Name: Zombie epidemic spread dynamics graph\n",
      "Type: DiGraph\n",
      "Number of nodes: 100\n",
      "Number of edges: 684\n",
      "Average in degree:   6.8400\n",
      "Average out degree:   6.8400\n",
      "Initial date of epidemic:\t18-08-2019\n",
      "Initial human population: \t148500 (99.33\\% of all population)\n",
      "Initial zombie population: \t1000 (0.67\\% of all population)\n",
      "\n",
      "CURRENT GRAPH DESCRIPTION\n",
      "Date of epidemic:\t\t23-08-2019\n",
      "Total human population: \t60000 (40.13\\% of all population)\n",
      "Total zombie population: \t89500 (59.87\\% of all population)\n",
      "------------------------------\n"
     ]
    },
    {
     "name": "stderr",
     "output_type": "stream",
     "text": [
      "\r",
      "  8%|██████▉                                                                            | 5/60 [00:04<00:44,  1.24it/s]"
     ]
    },
    {
     "name": "stdout",
     "output_type": "stream",
     "text": [
      "[INFO] Second step 3 \n",
      "------------------------------\n",
      "INITIAL GRAPH DESCRIPTION:\n",
      "Name: Zombie epidemic spread dynamics graph\n",
      "Type: DiGraph\n",
      "Number of nodes: 100\n",
      "Number of edges: 684\n",
      "Average in degree:   6.8400\n",
      "Average out degree:   6.8400\n",
      "Initial date of epidemic:\t18-08-2019\n",
      "Initial human population: \t148500 (99.33\\% of all population)\n",
      "Initial zombie population: \t1000 (0.67\\% of all population)\n",
      "\n",
      "CURRENT GRAPH DESCRIPTION\n",
      "Date of epidemic:\t\t24-08-2019\n",
      "Total human population: \t45000 (30.10\\% of all population)\n",
      "Total zombie population: \t104500 (69.90\\% of all population)\n",
      "------------------------------\n"
     ]
    },
    {
     "name": "stderr",
     "output_type": "stream",
     "text": [
      "\r",
      " 10%|████████▎                                                                          | 6/60 [00:04<00:42,  1.27it/s]"
     ]
    },
    {
     "name": "stdout",
     "output_type": "stream",
     "text": [
      "[INFO] Second step 3 \n",
      "------------------------------\n",
      "INITIAL GRAPH DESCRIPTION:\n",
      "Name: Zombie epidemic spread dynamics graph\n",
      "Type: DiGraph\n",
      "Number of nodes: 100\n",
      "Number of edges: 684\n",
      "Average in degree:   6.8400\n",
      "Average out degree:   6.8400\n",
      "Initial date of epidemic:\t18-08-2019\n",
      "Initial human population: \t148500 (99.33\\% of all population)\n",
      "Initial zombie population: \t1000 (0.67\\% of all population)\n",
      "\n",
      "CURRENT GRAPH DESCRIPTION\n",
      "Date of epidemic:\t\t25-08-2019\n",
      "Total human population: \t30000 (20.07\\% of all population)\n",
      "Total zombie population: \t119500 (79.93\\% of all population)\n",
      "------------------------------\n"
     ]
    },
    {
     "name": "stderr",
     "output_type": "stream",
     "text": [
      "\r",
      " 12%|█████████▋                                                                         | 7/60 [00:05<00:41,  1.29it/s]"
     ]
    },
    {
     "name": "stdout",
     "output_type": "stream",
     "text": [
      "[INFO] Second step 3 \n",
      "------------------------------\n",
      "INITIAL GRAPH DESCRIPTION:\n",
      "Name: Zombie epidemic spread dynamics graph\n",
      "Type: DiGraph\n",
      "Number of nodes: 100\n",
      "Number of edges: 684\n",
      "Average in degree:   6.8400\n",
      "Average out degree:   6.8400\n",
      "Initial date of epidemic:\t18-08-2019\n",
      "Initial human population: \t148500 (99.33\\% of all population)\n",
      "Initial zombie population: \t1000 (0.67\\% of all population)\n",
      "\n",
      "CURRENT GRAPH DESCRIPTION\n",
      "Date of epidemic:\t\t26-08-2019\n",
      "Total human population: \t15000 (10.03\\% of all population)\n",
      "Total zombie population: \t134500 (89.97\\% of all population)\n",
      "------------------------------\n"
     ]
    },
    {
     "name": "stderr",
     "output_type": "stream",
     "text": [
      "\r",
      " 13%|███████████                                                                        | 8/60 [00:06<00:39,  1.30it/s]"
     ]
    },
    {
     "name": "stdout",
     "output_type": "stream",
     "text": [
      "[INFO] Second step 3 \n",
      "------------------------------\n",
      "INITIAL GRAPH DESCRIPTION:\n",
      "Name: Zombie epidemic spread dynamics graph\n",
      "Type: DiGraph\n",
      "Number of nodes: 100\n",
      "Number of edges: 684\n",
      "Average in degree:   6.8400\n",
      "Average out degree:   6.8400\n",
      "Initial date of epidemic:\t18-08-2019\n",
      "Initial human population: \t148500 (99.33\\% of all population)\n",
      "Initial zombie population: \t1000 (0.67\\% of all population)\n",
      "\n",
      "CURRENT GRAPH DESCRIPTION\n",
      "Date of epidemic:\t\t27-08-2019\n",
      "Total human population: \t0 (0.00\\% of all population)\n",
      "Total zombie population: \t149500 (100.00\\% of all population)\n",
      "------------------------------\n"
     ]
    },
    {
     "name": "stderr",
     "output_type": "stream",
     "text": [
      "\r",
      " 15%|████████████▍                                                                      | 9/60 [00:07<00:38,  1.32it/s]"
     ]
    },
    {
     "name": "stdout",
     "output_type": "stream",
     "text": [
      "[INFO] Second step 3 \n",
      "------------------------------\n",
      "INITIAL GRAPH DESCRIPTION:\n",
      "Name: Zombie epidemic spread dynamics graph\n",
      "Type: DiGraph\n",
      "Number of nodes: 100\n",
      "Number of edges: 684\n",
      "Average in degree:   6.8400\n",
      "Average out degree:   6.8400\n",
      "Initial date of epidemic:\t18-08-2019\n",
      "Initial human population: \t148500 (99.33\\% of all population)\n",
      "Initial zombie population: \t1000 (0.67\\% of all population)\n",
      "\n",
      "CURRENT GRAPH DESCRIPTION\n",
      "Date of epidemic:\t\t28-08-2019\n",
      "Total human population: \t0 (0.00\\% of all population)\n",
      "Total zombie population: \t149500 (100.00\\% of all population)\n",
      "------------------------------\n"
     ]
    },
    {
     "name": "stderr",
     "output_type": "stream",
     "text": [
      "\r",
      " 17%|█████████████▋                                                                    | 10/60 [00:07<00:38,  1.30it/s]"
     ]
    },
    {
     "name": "stdout",
     "output_type": "stream",
     "text": [
      "[INFO] Second step 3 \n",
      "------------------------------\n",
      "INITIAL GRAPH DESCRIPTION:\n",
      "Name: Zombie epidemic spread dynamics graph\n",
      "Type: DiGraph\n",
      "Number of nodes: 100\n",
      "Number of edges: 684\n",
      "Average in degree:   6.8400\n",
      "Average out degree:   6.8400\n",
      "Initial date of epidemic:\t18-08-2019\n",
      "Initial human population: \t148500 (99.33\\% of all population)\n",
      "Initial zombie population: \t1000 (0.67\\% of all population)\n",
      "\n",
      "CURRENT GRAPH DESCRIPTION\n",
      "Date of epidemic:\t\t29-08-2019\n",
      "Total human population: \t0 (0.00\\% of all population)\n",
      "Total zombie population: \t149500 (100.00\\% of all population)\n",
      "------------------------------\n"
     ]
    },
    {
     "name": "stderr",
     "output_type": "stream",
     "text": [
      "\r",
      " 18%|███████████████                                                                   | 11/60 [00:08<00:38,  1.28it/s]"
     ]
    },
    {
     "name": "stdout",
     "output_type": "stream",
     "text": [
      "[INFO] Second step 3 \n",
      "------------------------------\n",
      "INITIAL GRAPH DESCRIPTION:\n",
      "Name: Zombie epidemic spread dynamics graph\n",
      "Type: DiGraph\n",
      "Number of nodes: 100\n",
      "Number of edges: 684\n",
      "Average in degree:   6.8400\n",
      "Average out degree:   6.8400\n",
      "Initial date of epidemic:\t18-08-2019\n",
      "Initial human population: \t148500 (99.33\\% of all population)\n",
      "Initial zombie population: \t1000 (0.67\\% of all population)\n",
      "\n",
      "CURRENT GRAPH DESCRIPTION\n",
      "Date of epidemic:\t\t30-08-2019\n",
      "Total human population: \t0 (0.00\\% of all population)\n",
      "Total zombie population: \t149500 (100.00\\% of all population)\n",
      "------------------------------\n"
     ]
    },
    {
     "name": "stderr",
     "output_type": "stream",
     "text": [
      "\r",
      " 20%|████████████████▍                                                                 | 12/60 [00:09<00:37,  1.26it/s]"
     ]
    },
    {
     "name": "stdout",
     "output_type": "stream",
     "text": [
      "[INFO] Second step 3 \n",
      "------------------------------\n",
      "INITIAL GRAPH DESCRIPTION:\n",
      "Name: Zombie epidemic spread dynamics graph\n",
      "Type: DiGraph\n",
      "Number of nodes: 100\n",
      "Number of edges: 684\n",
      "Average in degree:   6.8400\n",
      "Average out degree:   6.8400\n",
      "Initial date of epidemic:\t18-08-2019\n",
      "Initial human population: \t148500 (99.33\\% of all population)\n",
      "Initial zombie population: \t1000 (0.67\\% of all population)\n",
      "\n",
      "CURRENT GRAPH DESCRIPTION\n",
      "Date of epidemic:\t\t31-08-2019\n",
      "Total human population: \t0 (0.00\\% of all population)\n",
      "Total zombie population: \t149500 (100.00\\% of all population)\n",
      "------------------------------\n"
     ]
    },
    {
     "name": "stderr",
     "output_type": "stream",
     "text": [
      "\r",
      " 22%|█████████████████▊                                                                | 13/60 [00:10<00:39,  1.20it/s]"
     ]
    },
    {
     "name": "stdout",
     "output_type": "stream",
     "text": [
      "[INFO] Second step 3 \n",
      "------------------------------\n",
      "INITIAL GRAPH DESCRIPTION:\n",
      "Name: Zombie epidemic spread dynamics graph\n",
      "Type: DiGraph\n",
      "Number of nodes: 100\n",
      "Number of edges: 684\n",
      "Average in degree:   6.8400\n",
      "Average out degree:   6.8400\n",
      "Initial date of epidemic:\t18-08-2019\n",
      "Initial human population: \t148500 (99.33\\% of all population)\n",
      "Initial zombie population: \t1000 (0.67\\% of all population)\n",
      "\n",
      "CURRENT GRAPH DESCRIPTION\n",
      "Date of epidemic:\t\t01-09-2019\n",
      "Total human population: \t0 (0.00\\% of all population)\n",
      "Total zombie population: \t149500 (100.00\\% of all population)\n",
      "------------------------------\n"
     ]
    },
    {
     "name": "stderr",
     "output_type": "stream",
     "text": [
      "\r",
      " 23%|███████████████████▏                                                              | 14/60 [00:11<00:39,  1.16it/s]"
     ]
    },
    {
     "name": "stdout",
     "output_type": "stream",
     "text": [
      "[INFO] Second step 3 \n",
      "------------------------------\n",
      "INITIAL GRAPH DESCRIPTION:\n",
      "Name: Zombie epidemic spread dynamics graph\n",
      "Type: DiGraph\n",
      "Number of nodes: 100\n",
      "Number of edges: 684\n",
      "Average in degree:   6.8400\n",
      "Average out degree:   6.8400\n",
      "Initial date of epidemic:\t18-08-2019\n",
      "Initial human population: \t148500 (99.33\\% of all population)\n",
      "Initial zombie population: \t1000 (0.67\\% of all population)\n",
      "\n",
      "CURRENT GRAPH DESCRIPTION\n",
      "Date of epidemic:\t\t02-09-2019\n",
      "Total human population: \t0 (0.00\\% of all population)\n",
      "Total zombie population: \t148500 (99.33\\% of all population)\n",
      "------------------------------\n"
     ]
    },
    {
     "name": "stderr",
     "output_type": "stream",
     "text": [
      "\r",
      " 25%|████████████████████▌                                                             | 15/60 [00:12<00:38,  1.17it/s]"
     ]
    },
    {
     "name": "stdout",
     "output_type": "stream",
     "text": [
      "[INFO] Second step 3 \n",
      "------------------------------\n",
      "INITIAL GRAPH DESCRIPTION:\n",
      "Name: Zombie epidemic spread dynamics graph\n",
      "Type: DiGraph\n",
      "Number of nodes: 100\n",
      "Number of edges: 684\n",
      "Average in degree:   6.8400\n",
      "Average out degree:   6.8400\n",
      "Initial date of epidemic:\t18-08-2019\n",
      "Initial human population: \t148500 (99.33\\% of all population)\n",
      "Initial zombie population: \t1000 (0.67\\% of all population)\n",
      "\n",
      "CURRENT GRAPH DESCRIPTION\n",
      "Date of epidemic:\t\t03-09-2019\n",
      "Total human population: \t0 (0.00\\% of all population)\n",
      "Total zombie population: \t141000 (94.31\\% of all population)\n",
      "------------------------------\n"
     ]
    },
    {
     "name": "stderr",
     "output_type": "stream",
     "text": [
      "\r",
      " 27%|█████████████████████▊                                                            | 16/60 [00:12<00:37,  1.18it/s]"
     ]
    },
    {
     "name": "stdout",
     "output_type": "stream",
     "text": [
      "[INFO] Second step 3 \n",
      "------------------------------\n",
      "INITIAL GRAPH DESCRIPTION:\n",
      "Name: Zombie epidemic spread dynamics graph\n",
      "Type: DiGraph\n",
      "Number of nodes: 100\n",
      "Number of edges: 684\n",
      "Average in degree:   6.8400\n",
      "Average out degree:   6.8400\n",
      "Initial date of epidemic:\t18-08-2019\n",
      "Initial human population: \t148500 (99.33\\% of all population)\n",
      "Initial zombie population: \t1000 (0.67\\% of all population)\n",
      "\n",
      "CURRENT GRAPH DESCRIPTION\n",
      "Date of epidemic:\t\t04-09-2019\n",
      "Total human population: \t0 (0.00\\% of all population)\n",
      "Total zombie population: \t127500 (85.28\\% of all population)\n",
      "------------------------------\n"
     ]
    },
    {
     "name": "stderr",
     "output_type": "stream",
     "text": [
      "\r",
      " 28%|███████████████████████▏                                                          | 17/60 [00:13<00:35,  1.23it/s]"
     ]
    },
    {
     "name": "stdout",
     "output_type": "stream",
     "text": [
      "[INFO] Second step 3 \n",
      "------------------------------\n",
      "INITIAL GRAPH DESCRIPTION:\n",
      "Name: Zombie epidemic spread dynamics graph\n",
      "Type: DiGraph\n",
      "Number of nodes: 100\n",
      "Number of edges: 684\n",
      "Average in degree:   6.8400\n",
      "Average out degree:   6.8400\n",
      "Initial date of epidemic:\t18-08-2019\n",
      "Initial human population: \t148500 (99.33\\% of all population)\n",
      "Initial zombie population: \t1000 (0.67\\% of all population)\n",
      "\n",
      "CURRENT GRAPH DESCRIPTION\n",
      "Date of epidemic:\t\t05-09-2019\n",
      "Total human population: \t0 (0.00\\% of all population)\n",
      "Total zombie population: \t108000 (72.24\\% of all population)\n",
      "------------------------------\n"
     ]
    },
    {
     "name": "stderr",
     "output_type": "stream",
     "text": [
      "\r",
      " 30%|████████████████████████▌                                                         | 18/60 [00:14<00:34,  1.21it/s]"
     ]
    },
    {
     "name": "stdout",
     "output_type": "stream",
     "text": [
      "[INFO] Second step 3 \n",
      "------------------------------\n",
      "INITIAL GRAPH DESCRIPTION:\n",
      "Name: Zombie epidemic spread dynamics graph\n",
      "Type: DiGraph\n",
      "Number of nodes: 100\n",
      "Number of edges: 684\n",
      "Average in degree:   6.8400\n",
      "Average out degree:   6.8400\n",
      "Initial date of epidemic:\t18-08-2019\n",
      "Initial human population: \t148500 (99.33\\% of all population)\n",
      "Initial zombie population: \t1000 (0.67\\% of all population)\n",
      "\n",
      "CURRENT GRAPH DESCRIPTION\n",
      "Date of epidemic:\t\t06-09-2019\n",
      "Total human population: \t0 (0.00\\% of all population)\n",
      "Total zombie population: \t82500 (55.18\\% of all population)\n",
      "------------------------------\n"
     ]
    },
    {
     "name": "stderr",
     "output_type": "stream",
     "text": [
      "\r",
      " 32%|█████████████████████████▉                                                        | 19/60 [00:15<00:33,  1.22it/s]"
     ]
    },
    {
     "name": "stdout",
     "output_type": "stream",
     "text": [
      "[INFO] Second step 3 \n",
      "------------------------------\n",
      "INITIAL GRAPH DESCRIPTION:\n",
      "Name: Zombie epidemic spread dynamics graph\n",
      "Type: DiGraph\n",
      "Number of nodes: 100\n",
      "Number of edges: 684\n",
      "Average in degree:   6.8400\n",
      "Average out degree:   6.8400\n",
      "Initial date of epidemic:\t18-08-2019\n",
      "Initial human population: \t148500 (99.33\\% of all population)\n",
      "Initial zombie population: \t1000 (0.67\\% of all population)\n",
      "\n",
      "CURRENT GRAPH DESCRIPTION\n",
      "Date of epidemic:\t\t07-09-2019\n",
      "Total human population: \t0 (0.00\\% of all population)\n",
      "Total zombie population: \t60000 (40.13\\% of all population)\n",
      "------------------------------\n"
     ]
    },
    {
     "name": "stderr",
     "output_type": "stream",
     "text": [
      "\r",
      " 33%|███████████████████████████▎                                                      | 20/60 [00:16<00:31,  1.26it/s]"
     ]
    },
    {
     "name": "stdout",
     "output_type": "stream",
     "text": [
      "[INFO] Second step 3 \n",
      "------------------------------\n",
      "INITIAL GRAPH DESCRIPTION:\n",
      "Name: Zombie epidemic spread dynamics graph\n",
      "Type: DiGraph\n",
      "Number of nodes: 100\n",
      "Number of edges: 684\n",
      "Average in degree:   6.8400\n",
      "Average out degree:   6.8400\n",
      "Initial date of epidemic:\t18-08-2019\n",
      "Initial human population: \t148500 (99.33\\% of all population)\n",
      "Initial zombie population: \t1000 (0.67\\% of all population)\n",
      "\n",
      "CURRENT GRAPH DESCRIPTION\n",
      "Date of epidemic:\t\t08-09-2019\n",
      "Total human population: \t0 (0.00\\% of all population)\n",
      "Total zombie population: \t45000 (30.10\\% of all population)\n",
      "------------------------------\n"
     ]
    },
    {
     "name": "stderr",
     "output_type": "stream",
     "text": [
      "\r",
      " 35%|████████████████████████████▋                                                     | 21/60 [00:16<00:29,  1.30it/s]"
     ]
    },
    {
     "name": "stdout",
     "output_type": "stream",
     "text": [
      "[INFO] Second step 3 \n",
      "------------------------------\n",
      "INITIAL GRAPH DESCRIPTION:\n",
      "Name: Zombie epidemic spread dynamics graph\n",
      "Type: DiGraph\n",
      "Number of nodes: 100\n",
      "Number of edges: 684\n",
      "Average in degree:   6.8400\n",
      "Average out degree:   6.8400\n",
      "Initial date of epidemic:\t18-08-2019\n",
      "Initial human population: \t148500 (99.33\\% of all population)\n",
      "Initial zombie population: \t1000 (0.67\\% of all population)\n",
      "\n",
      "CURRENT GRAPH DESCRIPTION\n",
      "Date of epidemic:\t\t09-09-2019\n",
      "Total human population: \t0 (0.00\\% of all population)\n",
      "Total zombie population: \t30000 (20.07\\% of all population)\n",
      "------------------------------\n"
     ]
    },
    {
     "name": "stderr",
     "output_type": "stream",
     "text": [
      "\r",
      " 37%|██████████████████████████████                                                    | 22/60 [00:17<00:28,  1.32it/s]"
     ]
    },
    {
     "name": "stdout",
     "output_type": "stream",
     "text": [
      "[INFO] Second step 3 \n",
      "------------------------------\n",
      "INITIAL GRAPH DESCRIPTION:\n",
      "Name: Zombie epidemic spread dynamics graph\n",
      "Type: DiGraph\n",
      "Number of nodes: 100\n",
      "Number of edges: 684\n",
      "Average in degree:   6.8400\n",
      "Average out degree:   6.8400\n",
      "Initial date of epidemic:\t18-08-2019\n",
      "Initial human population: \t148500 (99.33\\% of all population)\n",
      "Initial zombie population: \t1000 (0.67\\% of all population)\n",
      "\n",
      "CURRENT GRAPH DESCRIPTION\n",
      "Date of epidemic:\t\t10-09-2019\n",
      "Total human population: \t0 (0.00\\% of all population)\n",
      "Total zombie population: \t15000 (10.03\\% of all population)\n",
      "------------------------------\n"
     ]
    },
    {
     "name": "stderr",
     "output_type": "stream",
     "text": [
      "\r",
      " 38%|███████████████████████████████▍                                                  | 23/60 [00:18<00:27,  1.32it/s]"
     ]
    },
    {
     "name": "stdout",
     "output_type": "stream",
     "text": [
      "[INFO] Second step 3 \n",
      "------------------------------\n",
      "INITIAL GRAPH DESCRIPTION:\n",
      "Name: Zombie epidemic spread dynamics graph\n",
      "Type: DiGraph\n",
      "Number of nodes: 100\n",
      "Number of edges: 684\n",
      "Average in degree:   6.8400\n",
      "Average out degree:   6.8400\n",
      "Initial date of epidemic:\t18-08-2019\n",
      "Initial human population: \t148500 (99.33\\% of all population)\n",
      "Initial zombie population: \t1000 (0.67\\% of all population)\n",
      "\n",
      "CURRENT GRAPH DESCRIPTION\n",
      "Date of epidemic:\t\t11-09-2019\n",
      "Total human population: \t0 (0.00\\% of all population)\n",
      "Total zombie population: \t0 (0.00\\% of all population)\n",
      "------------------------------\n"
     ]
    },
    {
     "name": "stderr",
     "output_type": "stream",
     "text": [
      "\r",
      " 40%|████████████████████████████████▊                                                 | 24/60 [00:19<00:26,  1.33it/s]"
     ]
    },
    {
     "name": "stdout",
     "output_type": "stream",
     "text": [
      "[INFO] Second step 3 \n",
      "------------------------------\n",
      "INITIAL GRAPH DESCRIPTION:\n",
      "Name: Zombie epidemic spread dynamics graph\n",
      "Type: DiGraph\n",
      "Number of nodes: 100\n",
      "Number of edges: 684\n",
      "Average in degree:   6.8400\n",
      "Average out degree:   6.8400\n",
      "Initial date of epidemic:\t18-08-2019\n",
      "Initial human population: \t148500 (99.33\\% of all population)\n",
      "Initial zombie population: \t1000 (0.67\\% of all population)\n",
      "\n",
      "CURRENT GRAPH DESCRIPTION\n",
      "Date of epidemic:\t\t12-09-2019\n",
      "Total human population: \t0 (0.00\\% of all population)\n",
      "Total zombie population: \t0 (0.00\\% of all population)\n",
      "------------------------------\n"
     ]
    },
    {
     "name": "stderr",
     "output_type": "stream",
     "text": [
      "\r",
      " 42%|██████████████████████████████████▏                                               | 25/60 [00:19<00:26,  1.32it/s]"
     ]
    },
    {
     "name": "stdout",
     "output_type": "stream",
     "text": [
      "[INFO] Second step 3 \n",
      "------------------------------\n",
      "INITIAL GRAPH DESCRIPTION:\n",
      "Name: Zombie epidemic spread dynamics graph\n",
      "Type: DiGraph\n",
      "Number of nodes: 100\n",
      "Number of edges: 684\n",
      "Average in degree:   6.8400\n",
      "Average out degree:   6.8400\n",
      "Initial date of epidemic:\t18-08-2019\n",
      "Initial human population: \t148500 (99.33\\% of all population)\n",
      "Initial zombie population: \t1000 (0.67\\% of all population)\n",
      "\n",
      "CURRENT GRAPH DESCRIPTION\n",
      "Date of epidemic:\t\t13-09-2019\n",
      "Total human population: \t0 (0.00\\% of all population)\n",
      "Total zombie population: \t0 (0.00\\% of all population)\n",
      "------------------------------\n"
     ]
    },
    {
     "name": "stderr",
     "output_type": "stream",
     "text": [
      "\r",
      " 43%|███████████████████████████████████▌                                              | 26/60 [00:20<00:25,  1.32it/s]"
     ]
    },
    {
     "name": "stdout",
     "output_type": "stream",
     "text": [
      "[INFO] Second step 3 \n",
      "------------------------------\n",
      "INITIAL GRAPH DESCRIPTION:\n",
      "Name: Zombie epidemic spread dynamics graph\n",
      "Type: DiGraph\n",
      "Number of nodes: 100\n",
      "Number of edges: 684\n",
      "Average in degree:   6.8400\n",
      "Average out degree:   6.8400\n",
      "Initial date of epidemic:\t18-08-2019\n",
      "Initial human population: \t148500 (99.33\\% of all population)\n",
      "Initial zombie population: \t1000 (0.67\\% of all population)\n",
      "\n",
      "CURRENT GRAPH DESCRIPTION\n",
      "Date of epidemic:\t\t14-09-2019\n",
      "Total human population: \t0 (0.00\\% of all population)\n",
      "Total zombie population: \t0 (0.00\\% of all population)\n",
      "------------------------------\n"
     ]
    },
    {
     "name": "stderr",
     "output_type": "stream",
     "text": [
      "\r",
      " 45%|████████████████████████████████████▉                                             | 27/60 [00:21<00:25,  1.31it/s]"
     ]
    },
    {
     "name": "stdout",
     "output_type": "stream",
     "text": [
      "[INFO] Second step 3 \n",
      "------------------------------\n",
      "INITIAL GRAPH DESCRIPTION:\n",
      "Name: Zombie epidemic spread dynamics graph\n",
      "Type: DiGraph\n",
      "Number of nodes: 100\n",
      "Number of edges: 684\n",
      "Average in degree:   6.8400\n",
      "Average out degree:   6.8400\n",
      "Initial date of epidemic:\t18-08-2019\n",
      "Initial human population: \t148500 (99.33\\% of all population)\n",
      "Initial zombie population: \t1000 (0.67\\% of all population)\n",
      "\n",
      "CURRENT GRAPH DESCRIPTION\n",
      "Date of epidemic:\t\t15-09-2019\n",
      "Total human population: \t0 (0.00\\% of all population)\n",
      "Total zombie population: \t0 (0.00\\% of all population)\n",
      "------------------------------\n"
     ]
    },
    {
     "name": "stderr",
     "output_type": "stream",
     "text": [
      "\r",
      " 47%|██████████████████████████████████████▎                                           | 28/60 [00:22<00:27,  1.16it/s]"
     ]
    },
    {
     "name": "stdout",
     "output_type": "stream",
     "text": [
      "[INFO] Second step 3 \n",
      "------------------------------\n",
      "INITIAL GRAPH DESCRIPTION:\n",
      "Name: Zombie epidemic spread dynamics graph\n",
      "Type: DiGraph\n",
      "Number of nodes: 100\n",
      "Number of edges: 684\n",
      "Average in degree:   6.8400\n",
      "Average out degree:   6.8400\n",
      "Initial date of epidemic:\t18-08-2019\n",
      "Initial human population: \t148500 (99.33\\% of all population)\n",
      "Initial zombie population: \t1000 (0.67\\% of all population)\n",
      "\n",
      "CURRENT GRAPH DESCRIPTION\n",
      "Date of epidemic:\t\t16-09-2019\n",
      "Total human population: \t0 (0.00\\% of all population)\n",
      "Total zombie population: \t0 (0.00\\% of all population)\n",
      "------------------------------\n"
     ]
    },
    {
     "name": "stderr",
     "output_type": "stream",
     "text": [
      "\r",
      " 48%|███████████████████████████████████████▋                                          | 29/60 [00:23<00:27,  1.12it/s]"
     ]
    },
    {
     "name": "stdout",
     "output_type": "stream",
     "text": [
      "[INFO] Second step 3 \n",
      "------------------------------\n",
      "INITIAL GRAPH DESCRIPTION:\n",
      "Name: Zombie epidemic spread dynamics graph\n",
      "Type: DiGraph\n",
      "Number of nodes: 100\n",
      "Number of edges: 684\n",
      "Average in degree:   6.8400\n",
      "Average out degree:   6.8400\n",
      "Initial date of epidemic:\t18-08-2019\n",
      "Initial human population: \t148500 (99.33\\% of all population)\n",
      "Initial zombie population: \t1000 (0.67\\% of all population)\n",
      "\n",
      "CURRENT GRAPH DESCRIPTION\n",
      "Date of epidemic:\t\t17-09-2019\n",
      "Total human population: \t0 (0.00\\% of all population)\n",
      "Total zombie population: \t0 (0.00\\% of all population)\n",
      "------------------------------\n"
     ]
    },
    {
     "name": "stderr",
     "output_type": "stream",
     "text": [
      "\r",
      " 50%|█████████████████████████████████████████                                         | 30/60 [00:24<00:26,  1.15it/s]"
     ]
    },
    {
     "name": "stdout",
     "output_type": "stream",
     "text": [
      "[INFO] Second step 3 \n",
      "------------------------------\n",
      "INITIAL GRAPH DESCRIPTION:\n",
      "Name: Zombie epidemic spread dynamics graph\n",
      "Type: DiGraph\n",
      "Number of nodes: 100\n",
      "Number of edges: 684\n",
      "Average in degree:   6.8400\n",
      "Average out degree:   6.8400\n",
      "Initial date of epidemic:\t18-08-2019\n",
      "Initial human population: \t148500 (99.33\\% of all population)\n",
      "Initial zombie population: \t1000 (0.67\\% of all population)\n",
      "\n",
      "CURRENT GRAPH DESCRIPTION\n",
      "Date of epidemic:\t\t18-09-2019\n",
      "Total human population: \t0 (0.00\\% of all population)\n",
      "Total zombie population: \t0 (0.00\\% of all population)\n",
      "------------------------------\n"
     ]
    },
    {
     "name": "stderr",
     "output_type": "stream",
     "text": [
      "\r",
      " 52%|██████████████████████████████████████████▎                                       | 31/60 [00:24<00:24,  1.20it/s]"
     ]
    },
    {
     "name": "stdout",
     "output_type": "stream",
     "text": [
      "[INFO] Second step 3 \n",
      "------------------------------\n",
      "INITIAL GRAPH DESCRIPTION:\n",
      "Name: Zombie epidemic spread dynamics graph\n",
      "Type: DiGraph\n",
      "Number of nodes: 100\n",
      "Number of edges: 684\n",
      "Average in degree:   6.8400\n",
      "Average out degree:   6.8400\n",
      "Initial date of epidemic:\t18-08-2019\n",
      "Initial human population: \t148500 (99.33\\% of all population)\n",
      "Initial zombie population: \t1000 (0.67\\% of all population)\n",
      "\n",
      "CURRENT GRAPH DESCRIPTION\n",
      "Date of epidemic:\t\t19-09-2019\n",
      "Total human population: \t0 (0.00\\% of all population)\n",
      "Total zombie population: \t0 (0.00\\% of all population)\n",
      "------------------------------\n"
     ]
    },
    {
     "name": "stderr",
     "output_type": "stream",
     "text": [
      "\r",
      " 53%|███████████████████████████████████████████▋                                      | 32/60 [00:25<00:22,  1.24it/s]"
     ]
    },
    {
     "name": "stdout",
     "output_type": "stream",
     "text": [
      "[INFO] Second step 3 \n",
      "------------------------------\n",
      "INITIAL GRAPH DESCRIPTION:\n",
      "Name: Zombie epidemic spread dynamics graph\n",
      "Type: DiGraph\n",
      "Number of nodes: 100\n",
      "Number of edges: 684\n",
      "Average in degree:   6.8400\n",
      "Average out degree:   6.8400\n",
      "Initial date of epidemic:\t18-08-2019\n",
      "Initial human population: \t148500 (99.33\\% of all population)\n",
      "Initial zombie population: \t1000 (0.67\\% of all population)\n",
      "\n",
      "CURRENT GRAPH DESCRIPTION\n",
      "Date of epidemic:\t\t20-09-2019\n",
      "Total human population: \t0 (0.00\\% of all population)\n",
      "Total zombie population: \t0 (0.00\\% of all population)\n",
      "------------------------------\n"
     ]
    },
    {
     "name": "stderr",
     "output_type": "stream",
     "text": [
      "\r",
      " 55%|█████████████████████████████████████████████                                     | 33/60 [00:26<00:21,  1.26it/s]"
     ]
    },
    {
     "name": "stdout",
     "output_type": "stream",
     "text": [
      "[INFO] Second step 3 \n",
      "------------------------------\n",
      "INITIAL GRAPH DESCRIPTION:\n",
      "Name: Zombie epidemic spread dynamics graph\n",
      "Type: DiGraph\n",
      "Number of nodes: 100\n",
      "Number of edges: 684\n",
      "Average in degree:   6.8400\n",
      "Average out degree:   6.8400\n",
      "Initial date of epidemic:\t18-08-2019\n",
      "Initial human population: \t148500 (99.33\\% of all population)\n",
      "Initial zombie population: \t1000 (0.67\\% of all population)\n",
      "\n",
      "CURRENT GRAPH DESCRIPTION\n",
      "Date of epidemic:\t\t21-09-2019\n",
      "Total human population: \t0 (0.00\\% of all population)\n",
      "Total zombie population: \t0 (0.00\\% of all population)\n",
      "------------------------------\n"
     ]
    },
    {
     "name": "stderr",
     "output_type": "stream",
     "text": [
      "\r",
      " 57%|██████████████████████████████████████████████▍                                   | 34/60 [00:27<00:20,  1.28it/s]"
     ]
    },
    {
     "name": "stdout",
     "output_type": "stream",
     "text": [
      "[INFO] Second step 3 \n",
      "------------------------------\n",
      "INITIAL GRAPH DESCRIPTION:\n",
      "Name: Zombie epidemic spread dynamics graph\n",
      "Type: DiGraph\n",
      "Number of nodes: 100\n",
      "Number of edges: 684\n",
      "Average in degree:   6.8400\n",
      "Average out degree:   6.8400\n",
      "Initial date of epidemic:\t18-08-2019\n",
      "Initial human population: \t148500 (99.33\\% of all population)\n",
      "Initial zombie population: \t1000 (0.67\\% of all population)\n",
      "\n",
      "CURRENT GRAPH DESCRIPTION\n",
      "Date of epidemic:\t\t22-09-2019\n",
      "Total human population: \t0 (0.00\\% of all population)\n",
      "Total zombie population: \t0 (0.00\\% of all population)\n",
      "------------------------------\n"
     ]
    },
    {
     "name": "stderr",
     "output_type": "stream",
     "text": [
      "\r",
      " 58%|███████████████████████████████████████████████▊                                  | 35/60 [00:27<00:19,  1.30it/s]"
     ]
    },
    {
     "name": "stdout",
     "output_type": "stream",
     "text": [
      "[INFO] Second step 3 \n",
      "------------------------------\n",
      "INITIAL GRAPH DESCRIPTION:\n",
      "Name: Zombie epidemic spread dynamics graph\n",
      "Type: DiGraph\n",
      "Number of nodes: 100\n",
      "Number of edges: 684\n",
      "Average in degree:   6.8400\n",
      "Average out degree:   6.8400\n",
      "Initial date of epidemic:\t18-08-2019\n",
      "Initial human population: \t148500 (99.33\\% of all population)\n",
      "Initial zombie population: \t1000 (0.67\\% of all population)\n",
      "\n",
      "CURRENT GRAPH DESCRIPTION\n",
      "Date of epidemic:\t\t23-09-2019\n",
      "Total human population: \t0 (0.00\\% of all population)\n",
      "Total zombie population: \t0 (0.00\\% of all population)\n",
      "------------------------------\n"
     ]
    },
    {
     "name": "stderr",
     "output_type": "stream",
     "text": [
      "\r",
      " 60%|█████████████████████████████████████████████████▏                                | 36/60 [00:28<00:18,  1.32it/s]"
     ]
    },
    {
     "name": "stdout",
     "output_type": "stream",
     "text": [
      "[INFO] Second step 3 \n",
      "------------------------------\n",
      "INITIAL GRAPH DESCRIPTION:\n",
      "Name: Zombie epidemic spread dynamics graph\n",
      "Type: DiGraph\n",
      "Number of nodes: 100\n",
      "Number of edges: 684\n",
      "Average in degree:   6.8400\n",
      "Average out degree:   6.8400\n",
      "Initial date of epidemic:\t18-08-2019\n",
      "Initial human population: \t148500 (99.33\\% of all population)\n",
      "Initial zombie population: \t1000 (0.67\\% of all population)\n",
      "\n",
      "CURRENT GRAPH DESCRIPTION\n",
      "Date of epidemic:\t\t24-09-2019\n",
      "Total human population: \t0 (0.00\\% of all population)\n",
      "Total zombie population: \t0 (0.00\\% of all population)\n",
      "------------------------------\n"
     ]
    },
    {
     "name": "stderr",
     "output_type": "stream",
     "text": [
      "\r",
      " 62%|██████████████████████████████████████████████████▌                               | 37/60 [00:29<00:17,  1.33it/s]"
     ]
    },
    {
     "name": "stdout",
     "output_type": "stream",
     "text": [
      "[INFO] Second step 3 \n",
      "------------------------------\n",
      "INITIAL GRAPH DESCRIPTION:\n",
      "Name: Zombie epidemic spread dynamics graph\n",
      "Type: DiGraph\n",
      "Number of nodes: 100\n",
      "Number of edges: 684\n",
      "Average in degree:   6.8400\n",
      "Average out degree:   6.8400\n",
      "Initial date of epidemic:\t18-08-2019\n",
      "Initial human population: \t148500 (99.33\\% of all population)\n",
      "Initial zombie population: \t1000 (0.67\\% of all population)\n",
      "\n",
      "CURRENT GRAPH DESCRIPTION\n",
      "Date of epidemic:\t\t25-09-2019\n",
      "Total human population: \t0 (0.00\\% of all population)\n",
      "Total zombie population: \t0 (0.00\\% of all population)\n",
      "------------------------------\n"
     ]
    },
    {
     "name": "stderr",
     "output_type": "stream",
     "text": [
      "\r",
      " 63%|███████████████████████████████████████████████████▉                              | 38/60 [00:30<00:16,  1.34it/s]"
     ]
    },
    {
     "name": "stdout",
     "output_type": "stream",
     "text": [
      "[INFO] Second step 3 \n",
      "------------------------------\n",
      "INITIAL GRAPH DESCRIPTION:\n",
      "Name: Zombie epidemic spread dynamics graph\n",
      "Type: DiGraph\n",
      "Number of nodes: 100\n",
      "Number of edges: 684\n",
      "Average in degree:   6.8400\n",
      "Average out degree:   6.8400\n",
      "Initial date of epidemic:\t18-08-2019\n",
      "Initial human population: \t148500 (99.33\\% of all population)\n",
      "Initial zombie population: \t1000 (0.67\\% of all population)\n",
      "\n",
      "CURRENT GRAPH DESCRIPTION\n",
      "Date of epidemic:\t\t26-09-2019\n",
      "Total human population: \t0 (0.00\\% of all population)\n",
      "Total zombie population: \t0 (0.00\\% of all population)\n",
      "------------------------------\n"
     ]
    },
    {
     "name": "stderr",
     "output_type": "stream",
     "text": [
      "\r",
      " 65%|█████████████████████████████████████████████████████▎                            | 39/60 [00:30<00:15,  1.32it/s]"
     ]
    },
    {
     "name": "stdout",
     "output_type": "stream",
     "text": [
      "[INFO] Second step 3 \n",
      "------------------------------\n",
      "INITIAL GRAPH DESCRIPTION:\n",
      "Name: Zombie epidemic spread dynamics graph\n",
      "Type: DiGraph\n",
      "Number of nodes: 100\n",
      "Number of edges: 684\n",
      "Average in degree:   6.8400\n",
      "Average out degree:   6.8400\n",
      "Initial date of epidemic:\t18-08-2019\n",
      "Initial human population: \t148500 (99.33\\% of all population)\n",
      "Initial zombie population: \t1000 (0.67\\% of all population)\n",
      "\n",
      "CURRENT GRAPH DESCRIPTION\n",
      "Date of epidemic:\t\t27-09-2019\n",
      "Total human population: \t0 (0.00\\% of all population)\n",
      "Total zombie population: \t0 (0.00\\% of all population)\n",
      "------------------------------\n"
     ]
    },
    {
     "name": "stderr",
     "output_type": "stream",
     "text": [
      "\r",
      " 67%|██████████████████████████████████████████████████████▋                           | 40/60 [00:31<00:15,  1.29it/s]"
     ]
    },
    {
     "name": "stdout",
     "output_type": "stream",
     "text": [
      "[INFO] Second step 3 \n",
      "------------------------------\n",
      "INITIAL GRAPH DESCRIPTION:\n",
      "Name: Zombie epidemic spread dynamics graph\n",
      "Type: DiGraph\n",
      "Number of nodes: 100\n",
      "Number of edges: 684\n",
      "Average in degree:   6.8400\n",
      "Average out degree:   6.8400\n",
      "Initial date of epidemic:\t18-08-2019\n",
      "Initial human population: \t148500 (99.33\\% of all population)\n",
      "Initial zombie population: \t1000 (0.67\\% of all population)\n",
      "\n",
      "CURRENT GRAPH DESCRIPTION\n",
      "Date of epidemic:\t\t28-09-2019\n",
      "Total human population: \t0 (0.00\\% of all population)\n",
      "Total zombie population: \t0 (0.00\\% of all population)\n",
      "------------------------------\n"
     ]
    },
    {
     "name": "stderr",
     "output_type": "stream",
     "text": [
      "\r",
      " 68%|████████████████████████████████████████████████████████                          | 41/60 [00:32<00:14,  1.30it/s]"
     ]
    },
    {
     "name": "stdout",
     "output_type": "stream",
     "text": [
      "[INFO] Second step 3 \n",
      "------------------------------\n",
      "INITIAL GRAPH DESCRIPTION:\n",
      "Name: Zombie epidemic spread dynamics graph\n",
      "Type: DiGraph\n",
      "Number of nodes: 100\n",
      "Number of edges: 684\n",
      "Average in degree:   6.8400\n",
      "Average out degree:   6.8400\n",
      "Initial date of epidemic:\t18-08-2019\n",
      "Initial human population: \t148500 (99.33\\% of all population)\n",
      "Initial zombie population: \t1000 (0.67\\% of all population)\n",
      "\n",
      "CURRENT GRAPH DESCRIPTION\n",
      "Date of epidemic:\t\t29-09-2019\n",
      "Total human population: \t0 (0.00\\% of all population)\n",
      "Total zombie population: \t0 (0.00\\% of all population)\n",
      "------------------------------\n"
     ]
    },
    {
     "name": "stderr",
     "output_type": "stream",
     "text": [
      "\r",
      " 70%|█████████████████████████████████████████████████████████▍                        | 42/60 [00:33<00:14,  1.25it/s]"
     ]
    },
    {
     "name": "stdout",
     "output_type": "stream",
     "text": [
      "[INFO] Second step 3 \n",
      "------------------------------\n",
      "INITIAL GRAPH DESCRIPTION:\n",
      "Name: Zombie epidemic spread dynamics graph\n",
      "Type: DiGraph\n",
      "Number of nodes: 100\n",
      "Number of edges: 684\n",
      "Average in degree:   6.8400\n",
      "Average out degree:   6.8400\n",
      "Initial date of epidemic:\t18-08-2019\n",
      "Initial human population: \t148500 (99.33\\% of all population)\n",
      "Initial zombie population: \t1000 (0.67\\% of all population)\n",
      "\n",
      "CURRENT GRAPH DESCRIPTION\n",
      "Date of epidemic:\t\t30-09-2019\n",
      "Total human population: \t0 (0.00\\% of all population)\n",
      "Total zombie population: \t0 (0.00\\% of all population)\n",
      "------------------------------\n"
     ]
    },
    {
     "name": "stderr",
     "output_type": "stream",
     "text": [
      "\r",
      " 72%|██████████████████████████████████████████████████████████▊                       | 43/60 [00:34<00:13,  1.25it/s]"
     ]
    },
    {
     "name": "stdout",
     "output_type": "stream",
     "text": [
      "[INFO] Second step 3 \n",
      "------------------------------\n",
      "INITIAL GRAPH DESCRIPTION:\n",
      "Name: Zombie epidemic spread dynamics graph\n",
      "Type: DiGraph\n",
      "Number of nodes: 100\n",
      "Number of edges: 684\n",
      "Average in degree:   6.8400\n",
      "Average out degree:   6.8400\n",
      "Initial date of epidemic:\t18-08-2019\n",
      "Initial human population: \t148500 (99.33\\% of all population)\n",
      "Initial zombie population: \t1000 (0.67\\% of all population)\n",
      "\n",
      "CURRENT GRAPH DESCRIPTION\n",
      "Date of epidemic:\t\t01-10-2019\n",
      "Total human population: \t0 (0.00\\% of all population)\n",
      "Total zombie population: \t0 (0.00\\% of all population)\n",
      "------------------------------\n"
     ]
    },
    {
     "name": "stderr",
     "output_type": "stream",
     "text": [
      "\r",
      " 73%|████████████████████████████████████████████████████████████▏                     | 44/60 [00:35<00:12,  1.23it/s]"
     ]
    },
    {
     "name": "stdout",
     "output_type": "stream",
     "text": [
      "[INFO] Second step 3 \n",
      "------------------------------\n",
      "INITIAL GRAPH DESCRIPTION:\n",
      "Name: Zombie epidemic spread dynamics graph\n",
      "Type: DiGraph\n",
      "Number of nodes: 100\n",
      "Number of edges: 684\n",
      "Average in degree:   6.8400\n",
      "Average out degree:   6.8400\n",
      "Initial date of epidemic:\t18-08-2019\n",
      "Initial human population: \t148500 (99.33\\% of all population)\n",
      "Initial zombie population: \t1000 (0.67\\% of all population)\n",
      "\n",
      "CURRENT GRAPH DESCRIPTION\n",
      "Date of epidemic:\t\t02-10-2019\n",
      "Total human population: \t0 (0.00\\% of all population)\n",
      "Total zombie population: \t0 (0.00\\% of all population)\n",
      "------------------------------\n"
     ]
    },
    {
     "name": "stderr",
     "output_type": "stream",
     "text": [
      "\r",
      " 75%|█████████████████████████████████████████████████████████████▌                    | 45/60 [00:35<00:11,  1.27it/s]"
     ]
    },
    {
     "name": "stdout",
     "output_type": "stream",
     "text": [
      "[INFO] Second step 3 \n",
      "------------------------------\n",
      "INITIAL GRAPH DESCRIPTION:\n",
      "Name: Zombie epidemic spread dynamics graph\n",
      "Type: DiGraph\n",
      "Number of nodes: 100\n",
      "Number of edges: 684\n",
      "Average in degree:   6.8400\n",
      "Average out degree:   6.8400\n",
      "Initial date of epidemic:\t18-08-2019\n",
      "Initial human population: \t148500 (99.33\\% of all population)\n",
      "Initial zombie population: \t1000 (0.67\\% of all population)\n",
      "\n",
      "CURRENT GRAPH DESCRIPTION\n",
      "Date of epidemic:\t\t03-10-2019\n",
      "Total human population: \t0 (0.00\\% of all population)\n",
      "Total zombie population: \t0 (0.00\\% of all population)\n",
      "------------------------------\n"
     ]
    },
    {
     "name": "stderr",
     "output_type": "stream",
     "text": [
      "\r",
      " 77%|██████████████████████████████████████████████████████████████▊                   | 46/60 [00:36<00:11,  1.26it/s]"
     ]
    },
    {
     "name": "stdout",
     "output_type": "stream",
     "text": [
      "[INFO] Second step 3 \n",
      "------------------------------\n",
      "INITIAL GRAPH DESCRIPTION:\n",
      "Name: Zombie epidemic spread dynamics graph\n",
      "Type: DiGraph\n",
      "Number of nodes: 100\n",
      "Number of edges: 684\n",
      "Average in degree:   6.8400\n",
      "Average out degree:   6.8400\n",
      "Initial date of epidemic:\t18-08-2019\n",
      "Initial human population: \t148500 (99.33\\% of all population)\n",
      "Initial zombie population: \t1000 (0.67\\% of all population)\n",
      "\n",
      "CURRENT GRAPH DESCRIPTION\n",
      "Date of epidemic:\t\t04-10-2019\n",
      "Total human population: \t0 (0.00\\% of all population)\n",
      "Total zombie population: \t0 (0.00\\% of all population)\n",
      "------------------------------\n"
     ]
    },
    {
     "name": "stderr",
     "output_type": "stream",
     "text": [
      "\r",
      " 78%|████████████████████████████████████████████████████████████████▏                 | 47/60 [00:37<00:10,  1.29it/s]"
     ]
    },
    {
     "name": "stdout",
     "output_type": "stream",
     "text": [
      "[INFO] Second step 3 \n",
      "------------------------------\n",
      "INITIAL GRAPH DESCRIPTION:\n",
      "Name: Zombie epidemic spread dynamics graph\n",
      "Type: DiGraph\n",
      "Number of nodes: 100\n",
      "Number of edges: 684\n",
      "Average in degree:   6.8400\n",
      "Average out degree:   6.8400\n",
      "Initial date of epidemic:\t18-08-2019\n",
      "Initial human population: \t148500 (99.33\\% of all population)\n",
      "Initial zombie population: \t1000 (0.67\\% of all population)\n",
      "\n",
      "CURRENT GRAPH DESCRIPTION\n",
      "Date of epidemic:\t\t05-10-2019\n",
      "Total human population: \t0 (0.00\\% of all population)\n",
      "Total zombie population: \t0 (0.00\\% of all population)\n",
      "------------------------------\n"
     ]
    },
    {
     "name": "stderr",
     "output_type": "stream",
     "text": [
      "\r",
      " 80%|█████████████████████████████████████████████████████████████████▌                | 48/60 [00:38<00:09,  1.31it/s]"
     ]
    },
    {
     "name": "stdout",
     "output_type": "stream",
     "text": [
      "[INFO] Second step 3 \n",
      "------------------------------\n",
      "INITIAL GRAPH DESCRIPTION:\n",
      "Name: Zombie epidemic spread dynamics graph\n",
      "Type: DiGraph\n",
      "Number of nodes: 100\n",
      "Number of edges: 684\n",
      "Average in degree:   6.8400\n",
      "Average out degree:   6.8400\n",
      "Initial date of epidemic:\t18-08-2019\n",
      "Initial human population: \t148500 (99.33\\% of all population)\n",
      "Initial zombie population: \t1000 (0.67\\% of all population)\n",
      "\n",
      "CURRENT GRAPH DESCRIPTION\n",
      "Date of epidemic:\t\t06-10-2019\n",
      "Total human population: \t0 (0.00\\% of all population)\n",
      "Total zombie population: \t0 (0.00\\% of all population)\n",
      "------------------------------\n"
     ]
    },
    {
     "name": "stderr",
     "output_type": "stream",
     "text": [
      "\r",
      " 82%|██████████████████████████████████████████████████████████████████▉               | 49/60 [00:38<00:08,  1.32it/s]"
     ]
    },
    {
     "name": "stdout",
     "output_type": "stream",
     "text": [
      "[INFO] Second step 3 \n",
      "------------------------------\n",
      "INITIAL GRAPH DESCRIPTION:\n",
      "Name: Zombie epidemic spread dynamics graph\n",
      "Type: DiGraph\n",
      "Number of nodes: 100\n",
      "Number of edges: 684\n",
      "Average in degree:   6.8400\n",
      "Average out degree:   6.8400\n",
      "Initial date of epidemic:\t18-08-2019\n",
      "Initial human population: \t148500 (99.33\\% of all population)\n",
      "Initial zombie population: \t1000 (0.67\\% of all population)\n",
      "\n",
      "CURRENT GRAPH DESCRIPTION\n",
      "Date of epidemic:\t\t07-10-2019\n",
      "Total human population: \t0 (0.00\\% of all population)\n",
      "Total zombie population: \t0 (0.00\\% of all population)\n",
      "------------------------------\n"
     ]
    },
    {
     "name": "stderr",
     "output_type": "stream",
     "text": [
      "\r",
      " 83%|████████████████████████████████████████████████████████████████████▎             | 50/60 [00:39<00:07,  1.32it/s]"
     ]
    },
    {
     "name": "stdout",
     "output_type": "stream",
     "text": [
      "[INFO] Second step 3 \n",
      "------------------------------\n",
      "INITIAL GRAPH DESCRIPTION:\n",
      "Name: Zombie epidemic spread dynamics graph\n",
      "Type: DiGraph\n",
      "Number of nodes: 100\n",
      "Number of edges: 684\n",
      "Average in degree:   6.8400\n",
      "Average out degree:   6.8400\n",
      "Initial date of epidemic:\t18-08-2019\n",
      "Initial human population: \t148500 (99.33\\% of all population)\n",
      "Initial zombie population: \t1000 (0.67\\% of all population)\n",
      "\n",
      "CURRENT GRAPH DESCRIPTION\n",
      "Date of epidemic:\t\t08-10-2019\n",
      "Total human population: \t0 (0.00\\% of all population)\n",
      "Total zombie population: \t0 (0.00\\% of all population)\n",
      "------------------------------\n"
     ]
    },
    {
     "name": "stderr",
     "output_type": "stream",
     "text": [
      "\r",
      " 85%|█████████████████████████████████████████████████████████████████████▋            | 51/60 [00:40<00:06,  1.31it/s]"
     ]
    },
    {
     "name": "stdout",
     "output_type": "stream",
     "text": [
      "[INFO] Second step 3 \n",
      "------------------------------\n",
      "INITIAL GRAPH DESCRIPTION:\n",
      "Name: Zombie epidemic spread dynamics graph\n",
      "Type: DiGraph\n",
      "Number of nodes: 100\n",
      "Number of edges: 684\n",
      "Average in degree:   6.8400\n",
      "Average out degree:   6.8400\n",
      "Initial date of epidemic:\t18-08-2019\n",
      "Initial human population: \t148500 (99.33\\% of all population)\n",
      "Initial zombie population: \t1000 (0.67\\% of all population)\n",
      "\n",
      "CURRENT GRAPH DESCRIPTION\n",
      "Date of epidemic:\t\t09-10-2019\n",
      "Total human population: \t0 (0.00\\% of all population)\n",
      "Total zombie population: \t0 (0.00\\% of all population)\n",
      "------------------------------\n"
     ]
    },
    {
     "name": "stderr",
     "output_type": "stream",
     "text": [
      "\r",
      " 87%|███████████████████████████████████████████████████████████████████████           | 52/60 [00:41<00:06,  1.28it/s]"
     ]
    },
    {
     "name": "stdout",
     "output_type": "stream",
     "text": [
      "[INFO] Second step 3 \n",
      "------------------------------\n",
      "INITIAL GRAPH DESCRIPTION:\n",
      "Name: Zombie epidemic spread dynamics graph\n",
      "Type: DiGraph\n",
      "Number of nodes: 100\n",
      "Number of edges: 684\n",
      "Average in degree:   6.8400\n",
      "Average out degree:   6.8400\n",
      "Initial date of epidemic:\t18-08-2019\n",
      "Initial human population: \t148500 (99.33\\% of all population)\n",
      "Initial zombie population: \t1000 (0.67\\% of all population)\n",
      "\n",
      "CURRENT GRAPH DESCRIPTION\n",
      "Date of epidemic:\t\t10-10-2019\n",
      "Total human population: \t0 (0.00\\% of all population)\n",
      "Total zombie population: \t0 (0.00\\% of all population)\n",
      "------------------------------\n"
     ]
    },
    {
     "name": "stderr",
     "output_type": "stream",
     "text": [
      "\r",
      " 88%|████████████████████████████████████████████████████████████████████████▍         | 53/60 [00:41<00:05,  1.30it/s]"
     ]
    },
    {
     "name": "stdout",
     "output_type": "stream",
     "text": [
      "[INFO] Second step 3 \n",
      "------------------------------\n",
      "INITIAL GRAPH DESCRIPTION:\n",
      "Name: Zombie epidemic spread dynamics graph\n",
      "Type: DiGraph\n",
      "Number of nodes: 100\n",
      "Number of edges: 684\n",
      "Average in degree:   6.8400\n",
      "Average out degree:   6.8400\n",
      "Initial date of epidemic:\t18-08-2019\n",
      "Initial human population: \t148500 (99.33\\% of all population)\n",
      "Initial zombie population: \t1000 (0.67\\% of all population)\n",
      "\n",
      "CURRENT GRAPH DESCRIPTION\n",
      "Date of epidemic:\t\t11-10-2019\n",
      "Total human population: \t0 (0.00\\% of all population)\n",
      "Total zombie population: \t0 (0.00\\% of all population)\n",
      "------------------------------\n"
     ]
    },
    {
     "name": "stderr",
     "output_type": "stream",
     "text": [
      "\r",
      " 90%|█████████████████████████████████████████████████████████████████████████▊        | 54/60 [00:42<00:04,  1.31it/s]"
     ]
    },
    {
     "name": "stdout",
     "output_type": "stream",
     "text": [
      "[INFO] Second step 3 \n",
      "------------------------------\n",
      "INITIAL GRAPH DESCRIPTION:\n",
      "Name: Zombie epidemic spread dynamics graph\n",
      "Type: DiGraph\n",
      "Number of nodes: 100\n",
      "Number of edges: 684\n",
      "Average in degree:   6.8400\n",
      "Average out degree:   6.8400\n",
      "Initial date of epidemic:\t18-08-2019\n",
      "Initial human population: \t148500 (99.33\\% of all population)\n",
      "Initial zombie population: \t1000 (0.67\\% of all population)\n",
      "\n",
      "CURRENT GRAPH DESCRIPTION\n",
      "Date of epidemic:\t\t12-10-2019\n",
      "Total human population: \t0 (0.00\\% of all population)\n",
      "Total zombie population: \t0 (0.00\\% of all population)\n",
      "------------------------------\n"
     ]
    },
    {
     "name": "stderr",
     "output_type": "stream",
     "text": [
      "\r",
      " 92%|███████████████████████████████████████████████████████████████████████████▏      | 55/60 [00:43<00:03,  1.33it/s]"
     ]
    },
    {
     "name": "stdout",
     "output_type": "stream",
     "text": [
      "[INFO] Second step 3 \n",
      "------------------------------\n",
      "INITIAL GRAPH DESCRIPTION:\n",
      "Name: Zombie epidemic spread dynamics graph\n",
      "Type: DiGraph\n",
      "Number of nodes: 100\n",
      "Number of edges: 684\n",
      "Average in degree:   6.8400\n",
      "Average out degree:   6.8400\n",
      "Initial date of epidemic:\t18-08-2019\n",
      "Initial human population: \t148500 (99.33\\% of all population)\n",
      "Initial zombie population: \t1000 (0.67\\% of all population)\n",
      "\n",
      "CURRENT GRAPH DESCRIPTION\n",
      "Date of epidemic:\t\t13-10-2019\n",
      "Total human population: \t0 (0.00\\% of all population)\n",
      "Total zombie population: \t0 (0.00\\% of all population)\n",
      "------------------------------\n"
     ]
    },
    {
     "name": "stderr",
     "output_type": "stream",
     "text": [
      "\r",
      " 93%|████████████████████████████████████████████████████████████████████████████▌     | 56/60 [00:44<00:02,  1.35it/s]"
     ]
    },
    {
     "name": "stdout",
     "output_type": "stream",
     "text": [
      "[INFO] Second step 3 \n",
      "------------------------------\n",
      "INITIAL GRAPH DESCRIPTION:\n",
      "Name: Zombie epidemic spread dynamics graph\n",
      "Type: DiGraph\n",
      "Number of nodes: 100\n",
      "Number of edges: 684\n",
      "Average in degree:   6.8400\n",
      "Average out degree:   6.8400\n",
      "Initial date of epidemic:\t18-08-2019\n",
      "Initial human population: \t148500 (99.33\\% of all population)\n",
      "Initial zombie population: \t1000 (0.67\\% of all population)\n",
      "\n",
      "CURRENT GRAPH DESCRIPTION\n",
      "Date of epidemic:\t\t14-10-2019\n",
      "Total human population: \t0 (0.00\\% of all population)\n",
      "Total zombie population: \t0 (0.00\\% of all population)\n",
      "------------------------------\n"
     ]
    },
    {
     "name": "stderr",
     "output_type": "stream",
     "text": [
      "\r",
      " 95%|█████████████████████████████████████████████████████████████████████████████▉    | 57/60 [00:44<00:02,  1.38it/s]"
     ]
    },
    {
     "name": "stdout",
     "output_type": "stream",
     "text": [
      "[INFO] Second step 3 \n",
      "------------------------------\n",
      "INITIAL GRAPH DESCRIPTION:\n",
      "Name: Zombie epidemic spread dynamics graph\n",
      "Type: DiGraph\n",
      "Number of nodes: 100\n",
      "Number of edges: 684\n",
      "Average in degree:   6.8400\n",
      "Average out degree:   6.8400\n",
      "Initial date of epidemic:\t18-08-2019\n",
      "Initial human population: \t148500 (99.33\\% of all population)\n",
      "Initial zombie population: \t1000 (0.67\\% of all population)\n",
      "\n",
      "CURRENT GRAPH DESCRIPTION\n",
      "Date of epidemic:\t\t15-10-2019\n",
      "Total human population: \t0 (0.00\\% of all population)\n",
      "Total zombie population: \t0 (0.00\\% of all population)\n",
      "------------------------------\n"
     ]
    },
    {
     "name": "stderr",
     "output_type": "stream",
     "text": [
      "\r",
      " 97%|███████████████████████████████████████████████████████████████████████████████▎  | 58/60 [00:45<00:01,  1.38it/s]"
     ]
    },
    {
     "name": "stdout",
     "output_type": "stream",
     "text": [
      "[INFO] Second step 3 \n",
      "------------------------------\n",
      "INITIAL GRAPH DESCRIPTION:\n",
      "Name: Zombie epidemic spread dynamics graph\n",
      "Type: DiGraph\n",
      "Number of nodes: 100\n",
      "Number of edges: 684\n",
      "Average in degree:   6.8400\n",
      "Average out degree:   6.8400\n",
      "Initial date of epidemic:\t18-08-2019\n",
      "Initial human population: \t148500 (99.33\\% of all population)\n",
      "Initial zombie population: \t1000 (0.67\\% of all population)\n",
      "\n",
      "CURRENT GRAPH DESCRIPTION\n",
      "Date of epidemic:\t\t16-10-2019\n",
      "Total human population: \t0 (0.00\\% of all population)\n",
      "Total zombie population: \t0 (0.00\\% of all population)\n",
      "------------------------------\n"
     ]
    },
    {
     "name": "stderr",
     "output_type": "stream",
     "text": [
      "\r",
      " 98%|████████████████████████████████████████████████████████████████████████████████▋ | 59/60 [00:46<00:00,  1.40it/s]"
     ]
    },
    {
     "name": "stdout",
     "output_type": "stream",
     "text": [
      "[INFO] Second step 3 \n",
      "------------------------------\n",
      "INITIAL GRAPH DESCRIPTION:\n",
      "Name: Zombie epidemic spread dynamics graph\n",
      "Type: DiGraph\n",
      "Number of nodes: 100\n",
      "Number of edges: 684\n",
      "Average in degree:   6.8400\n",
      "Average out degree:   6.8400\n",
      "Initial date of epidemic:\t18-08-2019\n",
      "Initial human population: \t148500 (99.33\\% of all population)\n",
      "Initial zombie population: \t1000 (0.67\\% of all population)\n",
      "\n",
      "CURRENT GRAPH DESCRIPTION\n",
      "Date of epidemic:\t\t17-10-2019\n",
      "Total human population: \t0 (0.00\\% of all population)\n",
      "Total zombie population: \t0 (0.00\\% of all population)\n",
      "------------------------------\n"
     ]
    },
    {
     "name": "stderr",
     "output_type": "stream",
     "text": [
      "100%|██████████████████████████████████████████████████████████████████████████████████| 60/60 [00:46<00:00,  1.28it/s]\n"
     ]
    }
   ],
   "source": [
    "graph_2months = 0\n",
    "for epoch in tqdm.tqdm(range(60)): # Just 20 epochs\n",
    "    dynamic.step() # Run one step in dynamic procedure\n",
    "    if epoch == 59 : graph_2months = dynamic.graph\n",
    "    print(dynamic) # See basic statistics at each iteration"
   ]
  },
  {
   "cell_type": "markdown",
   "id": "7fdfe845",
   "metadata": {},
   "source": [
    "# Approximation algorithm (Vertex cover)"
   ]
  },
  {
   "cell_type": "code",
   "execution_count": 27,
   "id": "bba49858",
   "metadata": {},
   "outputs": [
    {
     "name": "stdout",
     "output_type": "stream",
     "text": [
      "['U88', 'U58', 'U39', 'U19', 'U78', 'U69', 'U21', 'U89', 'U45', 'U99', 'U41', 'U96', 'U48', 'U74', 'U42', 'U95', 'U38', 'U24', 'U23', 'U2', 'U15', 'U77', 'U43', 'U6', 'U90', 'U18', 'U29', 'U27', 'U98', 'U50', 'U36', 'U28', 'U52', 'U13', 'U5', 'U94', 'U3', 'U10', 'U51', 'U7', 'U54', 'U81', 'U75', 'U16', 'U91', 'U0', 'U20', 'U83', 'U34', 'U4', 'U56', 'U66', 'U59', 'U30', 'U1', 'U9', 'U61', 'U17', 'U79', 'U49', 'U67', 'U47', 'U93', 'U65', 'U37', 'U33', 'U12', 'U55', 'U71', 'U68', 'U87', 'U57', 'U62', 'U35', 'U82', 'U32', 'U92', 'U64', 'U73', 'U97', 'U60', 'U14', 'U85', 'U76', 'U80', 'U86', 'U46', 'U70', 'U8', 'U11', 'U40', 'U53', 'U31', 'U84', 'U44', 'U26', 'U25', 'U63', 'U22', 'U72']\n"
     ]
    }
   ],
   "source": [
    "vertex_cover = list(min_weighted_vertex_cover(graph_2months, weight=\"elev_factor\"))\n",
    "nodes = sorted(graph_2months.degree, key=lambda x: x[1], reverse=True)\n",
    "print(vertex_cover)\n",
    "\n",
    "military_cells = []\n",
    "for n in nodes:\n",
    "    if n[0] in vertex_cover and len(military_cells) <20:\n",
    "        military_cells.append(n)\n",
    "#print(military_cells)"
   ]
  },
  {
   "cell_type": "code",
   "execution_count": 46,
   "id": "765a8443",
   "metadata": {},
   "outputs": [
    {
     "name": "stdout",
     "output_type": "stream",
     "text": [
      "[(0, 1), (0, 2), (0, 3), (0, 4), (0, 5), (0, 6), (0, 7), (0, 8), (0, 9), (0, 10), (0, 11), (0, 12), (0, 13), (0, 14), (0, 15), (0, 16), (0, 17), (0, 18), (0, 19), (0, 20), (0, 21), (0, 22), (0, 23), (0, 24), (0, 25), (26, 0), (27, 0), (28, 0), (29, 0), (30, 0), (31, 0), (32, 0), (33, 0), (34, 0), (35, 0), (36, 0), (37, 0), (38, 0), (39, 0), (40, 0), (41, 0), (42, 0), (43, 0), (44, 0), (45, 0), (46, 0), (47, 0), (48, 0), (49, 0), (50, 0)]\n"
     ]
    }
   ],
   "source": [
    "def is_cover(G, node_cover):\n",
    "    return all({u, v} & node_cover for u, v in G.edges())\n",
    "\n",
    "# Create a star graph in which half the nodes are directed in\n",
    "# and half are directed out.\n",
    "G = nx.DiGraph()\n",
    "G.add_edges_from((0, v) for v in range(1, 26))\n",
    "G.add_edges_from((v, 0) for v in range(26, 51))\n",
    "cover = min_weighted_vertex_cover(G)\n",
    "\n",
    "print(G.edges)"
   ]
  },
  {
   "cell_type": "markdown",
   "id": "f8cb9c11",
   "metadata": {},
   "source": [
    "# Betweenness Centrality"
   ]
  },
  {
   "cell_type": "code",
   "execution_count": 19,
   "id": "fa23c9a3",
   "metadata": {},
   "outputs": [
    {
     "name": "stdout",
     "output_type": "stream",
     "text": [
      "{'U54': 0.08934854408689252, 'U55': 0.08934854408689251, 'U44': 0.0893485440868925, 'U45': 0.0893485440868925, 'U56': 0.0802380735182659, 'U53': 0.08023807351826588, 'U64': 0.08023807351826588, 'U34': 0.08023807351826587, 'U35': 0.08023807351826587, 'U43': 0.08023807351826587, 'U46': 0.08023807351826585, 'U65': 0.08023807351826585, 'U33': 0.07422118575980151, 'U63': 0.07422118575980151, 'U66': 0.07422118575980151, 'U36': 0.0742211857598015, 'U42': 0.0642920238361658, 'U47': 0.0642920238361658, 'U74': 0.06429202383616578, 'U24': 0.06429202383616577, 'U25': 0.06429202383616575, 'U57': 0.06429202383616575, 'U75': 0.06429202383616575, 'U52': 0.06429202383616574, 'U32': 0.06012416949363366, 'U37': 0.06012416949363366, 'U23': 0.060124169493633646, 'U62': 0.060124169493633646, 'U76': 0.060124169493633646, 'U26': 0.06012416949363364, 'U67': 0.06012416949363364, 'U73': 0.06012416949363364, 'U22': 0.051653018259499105, 'U27': 0.051653018259499105, 'U77': 0.0516530182594991, 'U72': 0.05165301825949909, 'U51': 0.041247099829237785, 'U58': 0.041247099829237785, 'U15': 0.04124709982923778, 'U41': 0.04124709982923778, 'U48': 0.04124709982923778, 'U84': 0.04124709982923778, 'U85': 0.04124709982923778, 'U14': 0.041247099829237764, 'U13': 0.038986366787534775, 'U68': 0.038986366787534775, 'U83': 0.038986366787534775, 'U16': 0.03898636678753477, 'U31': 0.03898636678753477, 'U38': 0.03898636678753477, 'U61': 0.03898636678753477, 'U86': 0.03898636678753477, 'U71': 0.034117956309679204, 'U82': 0.034117956309679204, 'U28': 0.0341179563096792, 'U78': 0.0341179563096792, 'U87': 0.0341179563096792, 'U12': 0.03411795630967919, 'U17': 0.03411795630967919, 'U21': 0.03411795630967918, 'U81': 0.026258853087951714, 'U88': 0.026258853087951714, 'U18': 0.0262588530879517, 'U11': 0.026258853087951697, 'U49': 0.009198515081603997, 'U94': 0.009198515081603997, 'U4': 0.009198515081603995, 'U5': 0.009198515081603995, 'U40': 0.009198515081603995, 'U50': 0.009198515081603995, 'U59': 0.009198515081603995, 'U95': 0.009198515081603995, 'U93': 0.008582042150632789, 'U3': 0.008582042150632787, 'U6': 0.008582042150632787, 'U60': 0.008582042150632787, 'U69': 0.008582042150632787, 'U96': 0.008582042150632786, 'U30': 0.008582042150632784, 'U39': 0.008582042150632784, 'U92': 0.007210299907505417, 'U7': 0.007210299907505415, 'U20': 0.007210299907505415, 'U29': 0.007210299907505415, 'U70': 0.007210299907505415, 'U79': 0.007210299907505415, 'U97': 0.007210299907505415, 'U2': 0.007210299907505414, 'U8': 0.004650407590709205, 'U1': 0.004650407590709203, 'U91': 0.004650407590709203, 'U10': 0.0046504075907092025, 'U19': 0.0046504075907092025, 'U80': 0.0046504075907092025, 'U89': 0.0046504075907092025, 'U98': 0.0046504075907092025, 'U0': 0.0, 'U9': 0.0, 'U90': 0.0, 'U99': 0.0}\n"
     ]
    }
   ],
   "source": [
    "from collections import OrderedDict\n",
    "bet_centrality = nx.betweenness_centrality(graph_2months, normalized = True, \n",
    "                                              endpoints = False)\n",
    "  \n",
    "# G is the Karate Social Graph, parameters normalized\n",
    "# and endpoints ensure whether we normalize the value\n",
    "# and consider the endpoints respectively.\n",
    "\n",
    "d_descending = OrderedDict(sorted(bet_centrality.items(), \n",
    "                                  key=lambda kv: kv[1], reverse=True))\n",
    "print(dict(d_descending))"
   ]
  }
 ],
 "metadata": {
  "kernelspec": {
   "display_name": "grapht",
   "language": "python",
   "name": "grapht"
  },
  "language_info": {
   "codemirror_mode": {
    "name": "ipython",
    "version": 3
   },
   "file_extension": ".py",
   "mimetype": "text/x-python",
   "name": "python",
   "nbconvert_exporter": "python",
   "pygments_lexer": "ipython3",
   "version": "3.8.5"
  }
 },
 "nbformat": 4,
 "nbformat_minor": 5
}
