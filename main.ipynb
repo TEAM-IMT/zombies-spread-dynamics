{
 "cells": [
  {
   "cell_type": "markdown",
   "metadata": {},
   "source": [
    "# Zombies Spread Dynamics\n",
    "Simulation of the spread of a zombie epidemic in Europe, based on the modeling of the territory with graph theory, in order to take control measures with military troops and nuclear bombs to save the largest possible population. "
   ]
  },
  {
   "cell_type": "code",
   "execution_count": null,
   "metadata": {},
   "outputs": [],
   "source": [
    "%load_ext autoreload\n",
    "%autoreload 2\n",
    "%matplotlib notebook\n",
    "import os, tqdm\n",
    "import datetime as dt\n",
    "import networkx as nx\n",
    "import matplotlib.pyplot as plt\n",
    "plt.rcParams['axes.facecolor'] = 'white'\n",
    "\n",
    "from libraries.dynamics import spread_zombie_dynamics as szd\n",
    "from libraries.dynamics import graph_by_default"
   ]
  },
  {
   "cell_type": "markdown",
   "metadata": {},
   "source": [
    "## Network reading\n",
    "After executing the notebook [graph construction](https://github.com/TEAM-IMT/zombies-spread-dynamics/blob/main/Codes/Challenge_2_graphconstruction.ipynb), the file **All_nodes_graph.gexf** will be generated. For convenience, we provide this file in zip format. The file is then unzipped."
   ]
  },
  {
   "cell_type": "code",
   "execution_count": null,
   "metadata": {},
   "outputs": [],
   "source": [
    "graph_zip = './graph/without_see_nodes_graph_ini_2.zip'\n",
    "graph_path = graph_zip.replace('.zip','.gexf')\n",
    "if not os.path.isfile(graph_path):\n",
    "    if not os.path.isdir('graph'): os.mkdir('graph')\n",
    "    !unzip $graph_zip -d \"./graph\"\n",
    "print('[INFO] File unzip successfully.')"
   ]
  },
  {
   "cell_type": "markdown",
   "metadata": {},
   "source": [
    "## Epidemic spread\n",
    "As a first view, let's load the network and see the initial state of the two populations"
   ]
  },
  {
   "cell_type": "code",
   "execution_count": null,
   "metadata": {},
   "outputs": [],
   "source": [
    "graph_path = './graph/without_see_nodes_graph_ini_2.gexf'\n",
    "G = nx.readwrite.gexf.read_gexf(graph_path)\n",
    "ini_date = dt.datetime(year = 2019, month = 8, day = 18)"
   ]
  },
  {
   "cell_type": "code",
   "execution_count": null,
   "metadata": {},
   "outputs": [],
   "source": [
    "dynamic = szd(graph = G, INTIAL_DATE = ini_date)\n",
    "graph_pos = {G.nodes[n]['node_id']:(eval(n)[1],-eval(n)[0]) for n in G.nodes()}"
   ]
  },
  {
   "cell_type": "code",
   "execution_count": null,
   "metadata": {},
   "outputs": [],
   "source": [
    "dynamic.reset()\n",
    "dynamic.edgecolor = 'k' # Change to 'k' to see edges in black or 'w' in white\n",
    "dynamic.graph_pos = graph_pos # Use variable to set an unique perspective"
   ]
  },
  {
   "cell_type": "code",
   "execution_count": null,
   "metadata": {
    "scrolled": false
   },
   "outputs": [],
   "source": [
    "fig, ax = plt.subplots(figsize = (5,5))\n",
    "dynamic.plot_graph(ax = ax)\n",
    "# Cell aux\n",
    "# for neig in dynamic.graph.neighbors('U45375'):\n",
    "#     print(\"[INFO] humanpop in\",neig,\":\",dynamic.graph.nodes[neig]['human_pop'],\n",
    "#           \"\\tzombiepop :\",dynamic.graph.nodes[neig]['zombie_pop'],\n",
    "#          \"\\twith elev {}\".format(('U45375',neig)),\":\",dynamic.graph.edges[('U45375',neig)]['elev_factor'])"
   ]
  },
  {
   "cell_type": "code",
   "execution_count": null,
   "metadata": {},
   "outputs": [],
   "source": [
    "print('[INFO] First zombie population in Rize', dynamic.graph.nodes['U45375']['zombie_pop'])\n",
    "print('[INFO] First human population in Brest', dynamic.graph.nodes['U28058']['human_pop'])"
   ]
  },
  {
   "cell_type": "markdown",
   "metadata": {},
   "source": [
    "Now, let's see how it evolves over time, over the course of two months."
   ]
  },
  {
   "cell_type": "code",
   "execution_count": null,
   "metadata": {
    "scrolled": false
   },
   "outputs": [],
   "source": [
    "#fig, axs = plt.subplots(nrows = 4, ncols = 3, figsize = (12,8))\n",
    "#ax_info = {\n",
    "#    \"18-08-2019\": axs[0,0], \"23-08-2019\": axs[0,1], \"28-08-2019\": axs[0,2],\n",
    "#    \"03-09-2019\": axs[1,0], \"08-09-2019\": axs[1,1], \"13-09-2019\": axs[1,2],\n",
    "#    \"18-09-2019\": axs[2,0], \"23-09-2019\": axs[2,1], \"28-09-2019\": axs[2,2],\n",
    "#    \"03-10-2019\": axs[3,0], \"08-10-2019\": axs[3,1], \"18-10-2019\": axs[3,2],\n",
    "#}\n",
    "fig, ax = plt.subplots(figsize = (8,5))\n",
    "ax_info = {\n",
    "    \"18-08-2019\": ax, \"23-08-2019\": ax, \"28-08-2019\": ax,\n",
    "    \"03-09-2019\": ax, \"08-09-2019\": ax, \"13-09-2019\": ax,\n",
    "    \"18-09-2019\": ax, \"23-09-2019\": ax, \"28-09-2019\": ax,\n",
    "    \"03-10-2019\": ax, \"08-10-2019\": ax, \"18-10-2019\": ax,\n",
    "}\n",
    "for epoch in tqdm.tqdm(range(61)): # 2 months\n",
    "    dynamic.plot_graph(ax = ax)\n",
    "    current_date = \"{0:%d-%m-%Y}\".format(dynamic.current_date)\n",
    "    if current_date in ax_info.keys():\n",
    "        #dynamic.plot_graph(ax = ax_info[current_date])\n",
    "        dynamic.save_checkpoint()\n",
    "        print(dynamic) # See basic statistics at each iteration\n",
    "    if current_date == \"18-10-2019\": break\n",
    "    dynamic.step() # Run one step in dynamic procedure"
   ]
  },
  {
   "cell_type": "code",
   "execution_count": null,
   "metadata": {},
   "outputs": [],
   "source": []
  }
 ],
 "metadata": {
  "kernelspec": {
   "display_name": "Python 3",
   "language": "python",
   "name": "python3"
  },
  "language_info": {
   "codemirror_mode": {
    "name": "ipython",
    "version": 3
   },
   "file_extension": ".py",
   "mimetype": "text/x-python",
   "name": "python",
   "nbconvert_exporter": "python",
   "pygments_lexer": "ipython3",
   "version": "3.8.5"
  },
  "toc": {
   "base_numbering": 1,
   "nav_menu": {},
   "number_sections": true,
   "sideBar": true,
   "skip_h1_title": false,
   "title_cell": "Table of Contents",
   "title_sidebar": "Contents",
   "toc_cell": false,
   "toc_position": {},
   "toc_section_display": true,
   "toc_window_display": false
  }
 },
 "nbformat": 4,
 "nbformat_minor": 4
}
