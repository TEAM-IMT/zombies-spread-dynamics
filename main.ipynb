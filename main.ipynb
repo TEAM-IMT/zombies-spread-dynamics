{
 "cells": [
  {
   "cell_type": "markdown",
   "metadata": {},
   "source": [
    "# Zombies Spread Dynamics\n",
    "Simulation of the spread of a zombie epidemic in Europe, based on the modeling of the territory with graph theory, in order to take control measures with military troops and nuclear bombs to save the largest possible population. "
   ]
  },
  {
   "cell_type": "code",
   "execution_count": null,
   "metadata": {},
   "outputs": [],
   "source": [
    "%load_ext autoreload\n",
    "%autoreload 2\n",
    "%matplotlib notebook\n",
    "import os, tqdm\n",
    "import datetime as dt\n",
    "import networkx as nx\n",
    "import matplotlib.pyplot as plt\n",
    "import pandas as pd\n",
    "plt.style.use('default')\n",
    "\n",
    "from libraries.dynamics import spread_zombie_dynamics as szd\n",
    "from libraries.dynamics import graph_by_default"
   ]
  },
  {
   "cell_type": "markdown",
   "metadata": {},
   "source": [
    "## Network reading\n",
    "After executing the notebook [graph construction](https://github.com/TEAM-IMT/zombies-spread-dynamics/blob/main/Codes/Challenge_2_graphconstruction.ipynb), the file **All_nodes_graph.gexf** will be generated. For convenience, we provide this file in zip format. The file is then unzipped."
   ]
  },
  {
   "cell_type": "code",
   "execution_count": null,
   "metadata": {},
   "outputs": [],
   "source": [
    "graph_zip = './graph/without_see_nodes_graph_ini_2.zip'\n",
    "graph_path = graph_zip.replace('.zip','.gexf')\n",
    "if not os.path.isfile(graph_path):\n",
    "    if not os.path.isdir('graph'): os.mkdir('graph')\n",
    "    !unzip $graph_zip -d \"./graph\"\n",
    "print('[INFO] File unzip successfully.')"
   ]
  },
  {
   "cell_type": "markdown",
   "metadata": {},
   "source": [
    "## Epidemic spread\n",
    "As a first view, let's load the network and see the initial state of the two populations"
   ]
  },
  {
   "cell_type": "code",
   "execution_count": null,
   "metadata": {},
   "outputs": [],
   "source": [
    "graph_path = './graph/without_see_nodes_graph_ini_2.gexf'\n",
    "G = nx.readwrite.gexf.read_gexf(graph_path)\n",
    "ini_date = dt.datetime(year = 2019, month = 8, day = 18)"
   ]
  },
  {
   "cell_type": "code",
   "execution_count": null,
   "metadata": {},
   "outputs": [],
   "source": [
    "dynamic = szd(graph = G, INTIAL_DATE = ini_date)\n",
    "graph_pos = {G.nodes[n]['node_id']:(eval(n)[1],-eval(n)[0]) for n in G.nodes()}"
   ]
  },
  {
   "cell_type": "code",
   "execution_count": null,
   "metadata": {},
   "outputs": [],
   "source": [
    "dynamic.reset()\n",
    "dynamic.graph_pos = graph_pos # Use variable to set an unique perspective"
   ]
  },
  {
   "cell_type": "code",
   "execution_count": null,
   "metadata": {
    "scrolled": false
   },
   "outputs": [],
   "source": [
    "fig, ax = plt.subplots(figsize = (5,5))\n",
    "dynamic.plot_graph(ax = ax)\n",
    "# Cell aux\n",
    "# for neig in dynamic.graph.neighbors('U45375'):\n",
    "#     print(\"[INFO] humanpop in\",neig,\":\",dynamic.graph.nodes[neig]['human_pop'],\n",
    "#           \"\\tzombiepop :\",dynamic.graph.nodes[neig]['zombie_pop'],\n",
    "#          \"\\twith elev {}\".format(('U45375',neig)),\":\",dynamic.graph.edges[('U45375',neig)]['elev_factor'])"
   ]
  },
  {
   "cell_type": "code",
   "execution_count": null,
   "metadata": {},
   "outputs": [],
   "source": [
    "print('[INFO] First zombie population in Rize', dynamic.graph.nodes['U45375']['zombie_pop'])\n",
    "print('[INFO] First human population in Brest', dynamic.graph.nodes['U28058']['human_pop'])"
   ]
  },
  {
   "cell_type": "markdown",
   "metadata": {},
   "source": [
    "Now, let's see how it evolves over time, over the course of two months."
   ]
  },
  {
   "cell_type": "code",
   "execution_count": null,
   "metadata": {
    "scrolled": false
   },
   "outputs": [],
   "source": [
    "# User values\n",
    "DATE_END = dt.datetime.strptime('18-02-2020', '%d-%m-%Y') # Dynamic until this date\n",
    "SPECIAL_CK_DATES = pd.to_datetime(['18-10-2019', '18-12-2019', DATE_END]) # 2-4-6 months\n",
    "CK_FREQ = '15D' # Checkpoints each 15days\n",
    "\n",
    "# Algorithm: Dynamic run\n",
    "total_days = (DATE_END - dynamic.INTIAL_DATE).days + 1\n",
    "date_cp = pd.date_range(start = dynamic.INTIAL_DATE, end = DATE_END, freq = CK_FREQ)\n",
    "date_cp = date_cp.append(SPECIAL_CK_DATES)\n",
    "fig, axs = plt.subplots(1,2, figsize = (10,7))\n",
    "trigger = True\n",
    "for epoch in tqdm.tqdm(range(total_days)):\n",
    "    dynamic.plot_all(axs = axs)\n",
    "    if dynamic.current_date in date_cp:\n",
    "        dynamic.save_checkpoint()\n",
    "#         print(dynamic) # See basic statistics at each iteration\n",
    "    if dynamic.graph.nodes['U28058']['zombie_pop'] > 0 and trigger:\n",
    "        trigger = False\n",
    "        print(\"[INFO] Zombies arrive to Brest in\", dynamic.current_date.strftime(\"%b. %d, %Y\"))\n",
    "        dynamic.save_checkpoint()\n",
    "    if dynamic.current_date >= DATE_END: break\n",
    "    dynamic.step() # Run one step in dynamic procedure"
   ]
  },
  {
   "cell_type": "markdown",
   "metadata": {},
   "source": [
    "After two months, approximately one fifth of the land was conquered by the two zombies, turning 4.67% of the population into zombies, and eradicating 5.57% of the people on the European continent."
   ]
  },
  {
   "cell_type": "code",
   "execution_count": null,
   "metadata": {},
   "outputs": [],
   "source": [
    "fig, ax = plt.subplots(figsize = (5,5))\n",
    "dynamic.plot_graph(ax = ax)\n",
    "print(dynamic)"
   ]
  },
  {
   "cell_type": "markdown",
   "metadata": {},
   "source": [
    "## After 2 months\n",
    "Bla bla"
   ]
  },
  {
   "cell_type": "code",
   "execution_count": null,
   "metadata": {},
   "outputs": [],
   "source": [
    "# Reset all graph, to load checkpoint\n",
    "graph_path = './graph/without_see_nodes_graph_ini_2.gexf'\n",
    "G = nx.readwrite.gexf.read_gexf(graph_path)\n",
    "ini_date = dt.datetime(year = 2019, month = 8, day = 18)"
   ]
  },
  {
   "cell_type": "code",
   "execution_count": null,
   "metadata": {},
   "outputs": [],
   "source": [
    "dynamic = szd(graph = G, INTIAL_DATE = ini_date)\n",
    "dynamic.load_checkpoint('checkpoints/szd_18-10-2019.dyn')"
   ]
  },
  {
   "cell_type": "code",
   "execution_count": null,
   "metadata": {},
   "outputs": [],
   "source": [
    "fig, axs = plt.subplots(1,2, figsize = (12,6))\n",
    "dynamic.plot_all(axs = axs)\n",
    "axs[0].set_title('(a)'); axs[1].set_title('(b)')\n",
    "fig.tight_layout()\n",
    "fig.savefig('images/result_2months.png', dpi=300, facecolor='w', edgecolor='k', pad_inches=0.0,)"
   ]
  },
  {
   "cell_type": "code",
   "execution_count": null,
   "metadata": {},
   "outputs": [],
   "source": []
  }
 ],
 "metadata": {
  "kernelspec": {
   "display_name": "Python 3",
   "language": "python",
   "name": "python3"
  },
  "language_info": {
   "codemirror_mode": {
    "name": "ipython",
    "version": 3
   },
   "file_extension": ".py",
   "mimetype": "text/x-python",
   "name": "python",
   "nbconvert_exporter": "python",
   "pygments_lexer": "ipython3",
   "version": "3.8.5"
  },
  "toc": {
   "base_numbering": 1,
   "nav_menu": {},
   "number_sections": true,
   "sideBar": true,
   "skip_h1_title": false,
   "title_cell": "Table of Contents",
   "title_sidebar": "Contents",
   "toc_cell": false,
   "toc_position": {},
   "toc_section_display": true,
   "toc_window_display": false
  }
 },
 "nbformat": 4,
 "nbformat_minor": 4
}
